{
 "cells": [
  {
   "cell_type": "markdown",
   "metadata": {},
   "source": [
    
   ]
  },
  {
   "cell_type": "markdown",
   "metadata": {},
   "source": [
    "# TASK 1: Data Integration"
   ]
  },
  {
   "cell_type": "markdown",
   "metadata": {},
   "source": [
    "# Importing the packages"
   ]
  },
  {
   "cell_type": "code",
   "execution_count": 1,
   "metadata": {},
   "outputs": [],
   "source": [
    "import geopandas as gpd \n",
    "import numpy as np\n",
    "import pandas as pd \n",
    "import matplotlib as plt\n",
    "from shapely.geometry import Point\n",
    "import re\n",
    "from math import sin, cos, sqrt, atan2, radians\n",
    "import operator\n",
    "from datetime import datetime\n",
    "import statistics\n",
    "from numpy import median\n",
    "from sklearn import preprocessing\n",
    "from sklearn.linear_model import LinearRegression\n",
    "from sklearn.model_selection import train_test_split\n",
    "import seaborn as sns\n",
    "from matplotlib import pyplot as plt"
   ]
  },
  {
   "cell_type": "markdown",
   "metadata": {},
   "source": [
    "# 1.Reading the data file and shape file"
   ]
  },
  {
   "cell_type": "code",
   "execution_count": 2,
   "metadata": {},
   "outputs": [],
   "source": [
    "data = pd.read_csv(\"29772990.csv\")\n",
    "shapefile = gpd.read_file(\"VIC_LOCALITY_POLYGON_shp.dbf\")"
   ]
  },
  {
   "cell_type": "markdown",
   "metadata": {},
   "source": [
    "We are removing the duplicates from the data frame, which has the dupliacte IDS"
   ]
  },
  {
   "cell_type": "code",
   "execution_count": 3,
   "metadata": {},
   "outputs": [
    {
     "data": {
      "text/html": [
       "<div>\n",
       "<style scoped>\n",
       "    .dataframe tbody tr th:only-of-type {\n",
       "        vertical-align: middle;\n",
       "    }\n",
       "\n",
       "    .dataframe tbody tr th {\n",
       "        vertical-align: top;\n",
       "    }\n",
       "\n",
       "    .dataframe thead th {\n",
       "        text-align: right;\n",
       "    }\n",
       "</style>\n",
       "<table border=\"1\" class=\"dataframe\">\n",
       "  <thead>\n",
       "    <tr style=\"text-align: right;\">\n",
       "      <th></th>\n",
       "      <th>ID</th>\n",
       "      <th>Address</th>\n",
       "      <th>Type</th>\n",
       "      <th>Date</th>\n",
       "    </tr>\n",
       "  </thead>\n",
       "  <tbody>\n",
       "    <tr>\n",
       "      <th>count</th>\n",
       "      <td>720</td>\n",
       "      <td>720</td>\n",
       "      <td>720</td>\n",
       "      <td>720</td>\n",
       "    </tr>\n",
       "    <tr>\n",
       "      <th>unique</th>\n",
       "      <td>684</td>\n",
       "      <td>683</td>\n",
       "      <td>3</td>\n",
       "      <td>56</td>\n",
       "    </tr>\n",
       "    <tr>\n",
       "      <th>top</th>\n",
       "      <td>ID370566046</td>\n",
       "      <td>16 Benambra Dr</td>\n",
       "      <td>h</td>\n",
       "      <td>12/08/2017</td>\n",
       "    </tr>\n",
       "    <tr>\n",
       "      <th>freq</th>\n",
       "      <td>2</td>\n",
       "      <td>2</td>\n",
       "      <td>519</td>\n",
       "      <td>31</td>\n",
       "    </tr>\n",
       "  </tbody>\n",
       "</table>\n",
       "</div>"
      ],
      "text/plain": [
       "                 ID         Address Type        Date\n",
       "count           720             720  720         720\n",
       "unique          684             683    3          56\n",
       "top     ID370566046  16 Benambra Dr    h  12/08/2017\n",
       "freq              2               2  519          31"
      ]
     },
     "execution_count": 3,
     "metadata": {},
     "output_type": "execute_result"
    }
   ],
   "source": [
    "data.describe(include=['O'])"
   ]
  },
  {
   "cell_type": "code",
   "execution_count": 4,
   "metadata": {},
   "outputs": [],
   "source": [
    "data = data.drop_duplicates(subset='ID')"
   ]
  },
  {
   "cell_type": "code",
   "execution_count": 5,
   "metadata": {},
   "outputs": [],
   "source": [
    "data = data.reset_index(drop=True) # restting the index after dropping the duplicate values "
   ]
  },
  {
   "cell_type": "code",
   "execution_count": 6,
   "metadata": {},
   "outputs": [
    {
     "data": {
      "text/html": [
       "<div>\n",
       "<style scoped>\n",
       "    .dataframe tbody tr th:only-of-type {\n",
       "        vertical-align: middle;\n",
       "    }\n",
       "\n",
       "    .dataframe tbody tr th {\n",
       "        vertical-align: top;\n",
       "    }\n",
       "\n",
       "    .dataframe thead th {\n",
       "        text-align: right;\n",
       "    }\n",
       "</style>\n",
       "<table border=\"1\" class=\"dataframe\">\n",
       "  <thead>\n",
       "    <tr style=\"text-align: right;\">\n",
       "      <th></th>\n",
       "      <th>ID</th>\n",
       "      <th>Address</th>\n",
       "      <th>Rooms</th>\n",
       "      <th>Type</th>\n",
       "      <th>Price</th>\n",
       "      <th>Date</th>\n",
       "      <th>Bathroom</th>\n",
       "      <th>Car</th>\n",
       "      <th>Landsize</th>\n",
       "      <th>Age</th>\n",
       "      <th>Lattitude</th>\n",
       "      <th>Longtitude</th>\n",
       "    </tr>\n",
       "  </thead>\n",
       "  <tbody>\n",
       "    <tr>\n",
       "      <th>0</th>\n",
       "      <td>ID578860701</td>\n",
       "      <td>33 Bedford St</td>\n",
       "      <td>3</td>\n",
       "      <td>h</td>\n",
       "      <td>860000.0</td>\n",
       "      <td>23/09/2017</td>\n",
       "      <td>2.0</td>\n",
       "      <td>2.0</td>\n",
       "      <td>593.0</td>\n",
       "      <td>5.0</td>\n",
       "      <td>-37.72057</td>\n",
       "      <td>144.87558</td>\n",
       "    </tr>\n",
       "    <tr>\n",
       "      <th>1</th>\n",
       "      <td>ID464458363</td>\n",
       "      <td>9 Dorset St</td>\n",
       "      <td>4</td>\n",
       "      <td>t</td>\n",
       "      <td>1170000.0</td>\n",
       "      <td>9/09/2017</td>\n",
       "      <td>3.0</td>\n",
       "      <td>2.0</td>\n",
       "      <td>725.0</td>\n",
       "      <td>83.0</td>\n",
       "      <td>-37.89868</td>\n",
       "      <td>145.14635</td>\n",
       "    </tr>\n",
       "    <tr>\n",
       "      <th>2</th>\n",
       "      <td>ID917430410</td>\n",
       "      <td>5/28 Eleanor St</td>\n",
       "      <td>2</td>\n",
       "      <td>t</td>\n",
       "      <td>480000.0</td>\n",
       "      <td>6/08/2016</td>\n",
       "      <td>1.0</td>\n",
       "      <td>1.0</td>\n",
       "      <td>556.0</td>\n",
       "      <td>9.0</td>\n",
       "      <td>-37.79190</td>\n",
       "      <td>144.88540</td>\n",
       "    </tr>\n",
       "    <tr>\n",
       "      <th>3</th>\n",
       "      <td>ID344040544</td>\n",
       "      <td>108 Willsmere Rd</td>\n",
       "      <td>3</td>\n",
       "      <td>h</td>\n",
       "      <td>1775000.0</td>\n",
       "      <td>19/08/2017</td>\n",
       "      <td>2.0</td>\n",
       "      <td>4.0</td>\n",
       "      <td>733.0</td>\n",
       "      <td>114.0</td>\n",
       "      <td>-37.79398</td>\n",
       "      <td>145.03777</td>\n",
       "    </tr>\n",
       "    <tr>\n",
       "      <th>4</th>\n",
       "      <td>ID948004615</td>\n",
       "      <td>6 Brigden Ct</td>\n",
       "      <td>3</td>\n",
       "      <td>h</td>\n",
       "      <td>663500.0</td>\n",
       "      <td>3/06/2017</td>\n",
       "      <td>2.0</td>\n",
       "      <td>1.0</td>\n",
       "      <td>991.0</td>\n",
       "      <td>104.0</td>\n",
       "      <td>-37.65887</td>\n",
       "      <td>145.06254</td>\n",
       "    </tr>\n",
       "  </tbody>\n",
       "</table>\n",
       "</div>"
      ],
      "text/plain": [
       "            ID           Address  Rooms Type      Price        Date  Bathroom  \\\n",
       "0  ID578860701     33 Bedford St      3    h   860000.0  23/09/2017       2.0   \n",
       "1  ID464458363       9 Dorset St      4    t  1170000.0   9/09/2017       3.0   \n",
       "2  ID917430410   5/28 Eleanor St      2    t   480000.0   6/08/2016       1.0   \n",
       "3  ID344040544  108 Willsmere Rd      3    h  1775000.0  19/08/2017       2.0   \n",
       "4  ID948004615      6 Brigden Ct      3    h   663500.0   3/06/2017       2.0   \n",
       "\n",
       "   Car  Landsize    Age  Lattitude  Longtitude  \n",
       "0  2.0     593.0    5.0  -37.72057   144.87558  \n",
       "1  2.0     725.0   83.0  -37.89868   145.14635  \n",
       "2  1.0     556.0    9.0  -37.79190   144.88540  \n",
       "3  4.0     733.0  114.0  -37.79398   145.03777  \n",
       "4  1.0     991.0  104.0  -37.65887   145.06254  "
      ]
     },
     "execution_count": 6,
     "metadata": {},
     "output_type": "execute_result"
    }
   ],
   "source": [
    "data.head()"
   ]
  },
  {
   "cell_type": "markdown",
   "metadata": {},
   "source": [
    "### Inserting Suburb column to the data frame"
   ]
  },
  {
   "cell_type": "markdown",
   "metadata": {},
   "source": [
    "### Mapping the latitude and longitude position with the latitude and longitude positions and finding the Suburb\n",
    "converting the latitude and longitude to point and then comparing with the shape file and extracting the suburb for the particular latitude and longitude position\n",
    "\n",
    "Suburb column has been added to the main data "
   ]
  },
  {
   "cell_type": "code",
   "execution_count": null,
   "metadata": {},
   "outputs": [],
   "source": [
    "\n",
    "location = [] # creating the list to append all the locations \n",
    "for i in range(len(data)):\n",
    "    lon = data['Longtitude'][i] # extracting the latitude one by one \n",
    "    lat = data['Lattitude'][i] # extracting the longitude one by one \n",
    "    point = Point(lon,lat) # converting the latitude and longitude as point \n",
    "    for j in range(len(shapefile)): \n",
    "        if point.within(shapefile['geometry'][j]): # checking the point isin the shapefile\n",
    "            location.append(shapefile['VIC_LOCA_2'][j]) # if find then we are appending it to the list \n",
    "            \n",
    "data['Suburb'] = location\n",
    "data.head()"
   ]
  },
  {
   "cell_type": "markdown",
   "metadata": {},
   "source": [
    "# Fetching the council from the council file \n",
    "- reading the council text file\n",
    "- matching the council information with the data frame and finding the appropritae council for the suburb"
   ]
  },
  {
   "cell_type": "code",
   "execution_count": 8,
   "metadata": {},
   "outputs": [
    {
     "name": "stderr",
     "output_type": "stream",
     "text": [
      "C:\\Users\\V.PAVAN\\Anaconda3\\lib\\site-packages\\ipykernel_launcher.py:19: SettingWithCopyWarning: \n",
      "A value is trying to be set on a copy of a slice from a DataFrame\n",
      "\n",
      "See the caveats in the documentation: http://pandas.pydata.org/pandas-docs/stable/indexing.html#indexing-view-versus-copy\n"
     ]
    }
   ],
   "source": [
    "data['Council'] = \"\" # creating the empty column in a data frame to append the values \n",
    "li = [] # creating the \n",
    "council = []\n",
    "file1 = open(\"Councils.txt\",\"r+\") # readig the council data from the council file \n",
    "lines = file1.readlines() # extracting the data line by line \n",
    "\n",
    "for i in range(len(lines)):\n",
    "    a = lines[i].split(\":\")[1].rstrip() #rstrip is used for stripping the spaces at the end of the string  and split has concil information\n",
    "    b = lines[i].split(\":\")[0]# split has the information of the subrbs belong to the council\n",
    "    matches=re.findall(r'\\'(.+?)\\'',a) # regular expression to extract the all the suburb strings and append to list \n",
    "    match = matches # appending to list of matches to the variable \n",
    "    match.insert(0,b) # making the first position as the council inthe list for the suburb\n",
    "    li.append(match)# appending the list to list li\n",
    "     \n",
    "for i in range(len(location)):# reading the data from the main data file and fetching the location details to find the council\n",
    "    for j in range(len(li)): # check the length of the list for finding the council \n",
    "        for a in li[j]:\n",
    "            if a.lower() == location[i].lower(): # converting all the values to lower for comparision \n",
    "                data['Council'][i] = li[j][0] # appending the council data to the council column in the data frame \n"
   ]
  },
  {
   "cell_type": "markdown",
   "metadata": {},
   "source": [
    "# 2. Crime by location A, B, C"
   ]
  },
  {
   "cell_type": "markdown",
   "metadata": {},
   "source": [
    "Reading the Excel file provided "
   ]
  },
  {
   "cell_type": "code",
   "execution_count": 9,
   "metadata": {},
   "outputs": [
    {
     "data": {
      "text/html": [
       "<div>\n",
       "<style scoped>\n",
       "    .dataframe tbody tr th:only-of-type {\n",
       "        vertical-align: middle;\n",
       "    }\n",
       "\n",
       "    .dataframe tbody tr th {\n",
       "        vertical-align: top;\n",
       "    }\n",
       "\n",
       "    .dataframe thead th {\n",
       "        text-align: right;\n",
       "    }\n",
       "</style>\n",
       "<table border=\"1\" class=\"dataframe\">\n",
       "  <thead>\n",
       "    <tr style=\"text-align: right;\">\n",
       "      <th>18</th>\n",
       "      <th>Apr - Mar reference period</th>\n",
       "      <th>Police Region</th>\n",
       "      <th>Police Service Area</th>\n",
       "      <th>Local Government Area</th>\n",
       "      <th>CSA Offence Division</th>\n",
       "      <th>CSA Offence Subdivision</th>\n",
       "      <th>Offence Count</th>\n",
       "      <th>LGA ERP</th>\n",
       "      <th>Victorian ERP</th>\n",
       "    </tr>\n",
       "  </thead>\n",
       "  <tbody>\n",
       "    <tr>\n",
       "      <th>0</th>\n",
       "      <td>2012</td>\n",
       "      <td>1 North West Metro</td>\n",
       "      <td>BANYULE</td>\n",
       "      <td>BANYULE</td>\n",
       "      <td>A Crimes against the person</td>\n",
       "      <td>A10 Homicide and related offences</td>\n",
       "      <td>4</td>\n",
       "      <td>123600</td>\n",
       "      <td>5632521</td>\n",
       "    </tr>\n",
       "    <tr>\n",
       "      <th>1</th>\n",
       "      <td>2012</td>\n",
       "      <td>1 North West Metro</td>\n",
       "      <td>BANYULE</td>\n",
       "      <td>BANYULE</td>\n",
       "      <td>A Crimes against the person</td>\n",
       "      <td>A20 Assault and related offences</td>\n",
       "      <td>568</td>\n",
       "      <td>123600</td>\n",
       "      <td>5632521</td>\n",
       "    </tr>\n",
       "    <tr>\n",
       "      <th>2</th>\n",
       "      <td>2012</td>\n",
       "      <td>1 North West Metro</td>\n",
       "      <td>BANYULE</td>\n",
       "      <td>BANYULE</td>\n",
       "      <td>A Crimes against the person</td>\n",
       "      <td>A30 Sexual offences</td>\n",
       "      <td>132</td>\n",
       "      <td>123600</td>\n",
       "      <td>5632521</td>\n",
       "    </tr>\n",
       "    <tr>\n",
       "      <th>3</th>\n",
       "      <td>2012</td>\n",
       "      <td>1 North West Metro</td>\n",
       "      <td>BANYULE</td>\n",
       "      <td>BANYULE</td>\n",
       "      <td>A Crimes against the person</td>\n",
       "      <td>A40 Abduction and related offences</td>\n",
       "      <td>12</td>\n",
       "      <td>123600</td>\n",
       "      <td>5632521</td>\n",
       "    </tr>\n",
       "    <tr>\n",
       "      <th>4</th>\n",
       "      <td>2012</td>\n",
       "      <td>1 North West Metro</td>\n",
       "      <td>BANYULE</td>\n",
       "      <td>BANYULE</td>\n",
       "      <td>A Crimes against the person</td>\n",
       "      <td>A50 Robbery</td>\n",
       "      <td>46</td>\n",
       "      <td>123600</td>\n",
       "      <td>5632521</td>\n",
       "    </tr>\n",
       "  </tbody>\n",
       "</table>\n",
       "</div>"
      ],
      "text/plain": [
       "18 Apr - Mar reference period       Police Region Police Service Area  \\\n",
       "0                        2012  1 North West Metro             BANYULE   \n",
       "1                        2012  1 North West Metro             BANYULE   \n",
       "2                        2012  1 North West Metro             BANYULE   \n",
       "3                        2012  1 North West Metro             BANYULE   \n",
       "4                        2012  1 North West Metro             BANYULE   \n",
       "\n",
       "18 Local Government Area         CSA Offence Division  \\\n",
       "0                BANYULE  A Crimes against the person   \n",
       "1                BANYULE  A Crimes against the person   \n",
       "2                BANYULE  A Crimes against the person   \n",
       "3                BANYULE  A Crimes against the person   \n",
       "4                BANYULE  A Crimes against the person   \n",
       "\n",
       "18             CSA Offence Subdivision Offence Count LGA ERP Victorian ERP  \n",
       "0    A10 Homicide and related offences             4  123600       5632521  \n",
       "1     A20 Assault and related offences           568  123600       5632521  \n",
       "2                  A30 Sexual offences           132  123600       5632521  \n",
       "3   A40 Abduction and related offences            12  123600       5632521  \n",
       "4                          A50 Robbery            46  123600       5632521  "
      ]
     },
     "execution_count": 9,
     "metadata": {},
     "output_type": "execute_result"
    }
   ],
   "source": [
    "cols = [1,2,3,4,5,6,7,8,9] # specifying the columns need to be excluded from the excel file \n",
    "df = pd.read_excel(\"crimebylocationdatatable-yearending31march2016.xlsx\",sheet_name='Table 1',usecols= cols) # read the excel file and read from the specific columns\n",
    "df.columns = df.iloc[18] # making the 18th column as the headings for the data frame \n",
    "df = df[19:] # reading the excel file from the 19th column and making it as the data frame \n",
    "df.reset_index(inplace = True) # reseting the index values \n",
    "del df['index'] # deleting the previous index \n",
    "df.head()"
   ]
  },
  {
   "cell_type": "markdown",
   "metadata": {},
   "source": [
    "Converting the year column into the date time object "
   ]
  },
  {
   "cell_type": "code",
   "execution_count": 10,
   "metadata": {},
   "outputs": [
    {
     "name": "stderr",
     "output_type": "stream",
     "text": [
      "C:\\Users\\V.PAVAN\\Anaconda3\\lib\\site-packages\\ipykernel_launcher.py:11: SettingWithCopyWarning: \n",
      "A value is trying to be set on a copy of a slice from a DataFrame.\n",
      "Try using .loc[row_indexer,col_indexer] = value instead\n",
      "\n",
      "See the caveats in the documentation: http://pandas.pydata.org/pandas-docs/stable/indexing.html#indexing-view-versus-copy\n",
      "  # This is added back by InteractiveShellApp.init_path()\n"
     ]
    }
   ],
   "source": [
    "import datetime\n",
    "dates = []\n",
    "new = data[['Date','Council']] # creating thr new data frame with only two columns in it , Date and Council \n",
    "date = new['Date'] # taking the dates of all from the data frame \n",
    "\n",
    "for i in range(len(date)):\n",
    "    date_str = date[i] # reading each date from the list \n",
    "    format_str = '%d/%m/%Y' # The format of the date specified \n",
    "    datetime_obj = datetime.datetime.strptime(date_str, format_str) # converting the string to the date time object \n",
    "    dates.append(datetime_obj.date().year) # appending the year to the dates list \n",
    "new['Date'] = dates# finally appending the list to new data frame "
   ]
  },
  {
   "cell_type": "markdown",
   "metadata": {},
   "source": [
    "#### caluclating the crime for three specific regions A, B, C \n",
    "    Crime is being caluclated for three years from the period of purchase\n",
    "    Columns created in the data frame\n",
    "        -crime_A_average\n",
    "        -rime_B_average\n",
    "        -crime_C_average\n",
    "        "
   ]
  },
  {
   "cell_type": "code",
   "execution_count": 11,
   "metadata": {},
   "outputs": [
    {
     "name": "stderr",
     "output_type": "stream",
     "text": [
      "C:\\Users\\V.PAVAN\\Anaconda3\\lib\\site-packages\\ipykernel_launcher.py:24: SettingWithCopyWarning: \n",
      "A value is trying to be set on a copy of a slice from a DataFrame\n",
      "\n",
      "See the caveats in the documentation: http://pandas.pydata.org/pandas-docs/stable/indexing.html#indexing-view-versus-copy\n",
      "C:\\Users\\V.PAVAN\\Anaconda3\\lib\\site-packages\\ipykernel_launcher.py:25: SettingWithCopyWarning: \n",
      "A value is trying to be set on a copy of a slice from a DataFrame\n",
      "\n",
      "See the caveats in the documentation: http://pandas.pydata.org/pandas-docs/stable/indexing.html#indexing-view-versus-copy\n",
      "C:\\Users\\V.PAVAN\\Anaconda3\\lib\\site-packages\\ipykernel_launcher.py:26: SettingWithCopyWarning: \n",
      "A value is trying to be set on a copy of a slice from a DataFrame\n",
      "\n",
      "See the caveats in the documentation: http://pandas.pydata.org/pandas-docs/stable/indexing.html#indexing-view-versus-copy\n"
     ]
    }
   ],
   "source": [
    "# creating the empty data colums in the data frame \n",
    "data['crime_A_average'] = \"\" # column for average crime of region A\n",
    "data['crime_B_average'] = \"\" # column for average crime of region B\n",
    "data['crime_C_average'] = \"\" # column for average crime of region C\n",
    "for j in range(len(new)):\n",
    "    area = new['Council'][j].rstrip() # fetching the council from the new data frame \n",
    "    date = int(new['Date'][j]) # fetching the date from the new data frame and converting it to int and storing on the variabke \n",
    "    # fetching the crime records based on the area and the range of the date for the below 3 years \n",
    "    crime_area = df[(df['Local Government Area'] == area )& (df['Apr - Mar reference period'] < date) & (df['Apr - Mar reference period'] >= date-3)]\n",
    "    count1 = 0\n",
    "    count2 = 0\n",
    "    count3 =0\n",
    "    crime_division = crime_area[['CSA Offence Division','Offence Count']] # fetching the required columns from count \n",
    "    crime_division.reset_index(inplace = True) # resetting the index to true \n",
    "    del crime_division['index'] # removing the index from the data frame \n",
    "    for i in range(len(crime_division)):\n",
    "        if crime_division['CSA Offence Division'][i].startswith(\"A\"): # if it starts with A then we are calucalting the average of A\n",
    "            count1+=crime_division['Offence Count'][i]\n",
    "        if crime_division['CSA Offence Division'][i].startswith(\"B\"):# if it starts with B then we are calucalting the average of B\n",
    "            count2+=crime_division['Offence Count'][i]\n",
    "        if crime_division['CSA Offence Division'][i].startswith(\"C\"):# if it starts with C then we are calucalting the average of C\n",
    "            count3+=crime_division['Offence Count'][i]\n",
    "    # passing the values back to the data frame        \n",
    "    data['crime_A_average'][j] = count1/3\n",
    "    data['crime_B_average'][j] = count2/3\n",
    "    data['crime_C_average'][j] = count3/3\n",
    "                                                                                                                                                                                                                                                                                                                                                                                                       "
   ]
  },
  {
   "cell_type": "markdown",
   "metadata": {},
   "source": [
    "# 3. Closest train station , distance to the closet station , travel time to southern cross "
   ]
  },
  {
   "cell_type": "markdown",
   "metadata": {},
   "source": [
    "reading the stops and stop times file , trips and calender file \n",
    "\n",
    "Condidering the first 2 files from the gtfs folder, Since they are assoictaed with the Train data\n",
    "\n",
    "Other they arent associated with the trains data "
   ]
  },
  {
   "cell_type": "code",
   "execution_count": 12,
   "metadata": {},
   "outputs": [
    {
     "name": "stderr",
     "output_type": "stream",
     "text": [
      "C:\\Users\\V.PAVAN\\Anaconda3\\lib\\site-packages\\ipykernel_launcher.py:2: FutureWarning: read_table is deprecated, use read_csv instead.\n",
      "  \n",
      "C:\\Users\\V.PAVAN\\Anaconda3\\lib\\site-packages\\ipykernel_launcher.py:3: FutureWarning: read_table is deprecated, use read_csv instead.\n",
      "  This is separate from the ipykernel package so we can avoid doing imports until\n",
      "C:\\Users\\V.PAVAN\\Anaconda3\\lib\\site-packages\\ipykernel_launcher.py:6: FutureWarning: read_table is deprecated, use read_csv instead.\n",
      "  \n",
      "C:\\Users\\V.PAVAN\\Anaconda3\\lib\\site-packages\\ipykernel_launcher.py:7: FutureWarning: read_table is deprecated, use read_csv instead.\n",
      "  import sys\n",
      "C:\\Users\\V.PAVAN\\Anaconda3\\lib\\site-packages\\ipykernel_launcher.py:10: FutureWarning: read_table is deprecated, use read_csv instead.\n",
      "  # Remove the CWD from sys.path while we load stuff.\n",
      "C:\\Users\\V.PAVAN\\Anaconda3\\lib\\site-packages\\ipykernel_launcher.py:11: FutureWarning: read_table is deprecated, use read_csv instead.\n",
      "  # This is added back by InteractiveShellApp.init_path()\n",
      "C:\\Users\\V.PAVAN\\Anaconda3\\lib\\site-packages\\ipykernel_launcher.py:14: FutureWarning: read_table is deprecated, use read_csv instead.\n",
      "  \n",
      "C:\\Users\\V.PAVAN\\Anaconda3\\lib\\site-packages\\ipykernel_launcher.py:15: FutureWarning: read_table is deprecated, use read_csv instead.\n",
      "  from ipykernel import kernelapp as app\n"
     ]
    }
   ],
   "source": [
    "#stops files\n",
    "text_file1 = pd.read_table('1/stops.txt',sep=',')\n",
    "text_file2 = pd.read_table('2/stops.txt',sep=',')\n",
    "text_file = text_file1.append(text_file2, ignore_index=True)\n",
    "#stop times file \n",
    "stop1 = pd.read_table('1/stop_times.txt',sep=',')\n",
    "stop2 = pd.read_table('2/stop_times.txt',sep=',')\n",
    "stops = stop1.append(stop2, ignore_index=True)\n",
    "# trips file \n",
    "trip1 = pd.read_table('1/trips.txt',sep=',')\n",
    "trip2 = pd.read_table('2/trips.txt',sep=',')\n",
    "trips = trip1.append(trip2, ignore_index=True)\n",
    "# calender file \n",
    "calendar1 = pd.read_table('1/calendar.txt',sep=',')\n",
    "calendar2 = pd.read_table('2/calendar.txt',sep=',')\n",
    "calendar = calendar1.append(calendar2, ignore_index=True)"
   ]
  },
  {
   "cell_type": "markdown",
   "metadata": {},
   "source": [
    "### Cleaning the stop times file, date column which was in the improrer date fromat has been converted to proper format\n",
    "\n",
    "\n",
    "we have fewer columns with the higher values other than the date range such as 25,26 we are correcting them back to the proper format "
   ]
  },
  {
   "cell_type": "code",
   "execution_count": 13,
   "metadata": {},
   "outputs": [],
   "source": [
    "\n",
    "l1 = []\n",
    "l2 = []\n",
    "time = stops['arrival_time']\n",
    "time1 = stops['departure_time']\n",
    "for i in range(len(time)):\n",
    "    a = re.search(r'(\\d\\d)+:(\\d\\d)+:(\\d\\d)+',time[i]) \n",
    "    if(int(a.group(1)) > 23):\n",
    "        b= int(a.group(1))-24\n",
    "        c = str(b) + \":\" + a.group(2) + \":\" + a.group(3)\n",
    "        l1.append(c)\n",
    "    else:\n",
    "        l1.append(time[i])\n",
    "    a = re.search(r'(\\d\\d)+:(\\d\\d)+:(\\d\\d)+',time1[i])\n",
    "    if(int(a.group(1)) > 23):\n",
    "        b= int(a.group(1))-24\n",
    "        c = str(b) + \":\" + a.group(2) + \":\" + a.group(3)\n",
    "        l2.append(c)\n",
    "    else:\n",
    "        l2.append(time1[i]) \n",
    "stops['arrival_time'] = l1\n",
    "stops['arrival_time'] = pd.to_datetime(stops['arrival_time'],format='%H:%M:%S').dt.time\n",
    "stops['departure_time'] = l2\n",
    "stops['departure_time'] = pd.to_datetime(stops['departure_time'],format='%H:%M:%S').dt.time"
   ]
  },
  {
   "cell_type": "markdown",
   "metadata": {},
   "source": [
    "For caluclating the train sation and distance we are following the approach\n",
    "\n",
    "- fecthing the stop ids of the southern cross station \n",
    "\n",
    "- merging the stops and trips based on the trip id \n",
    "\n",
    "- fetching the trip ids that are associated with the southern cross\n",
    "\n",
    "- Fetching the trips only that are assoicated with the southern cross \n",
    "\n",
    "- Also fecthing the trips that are between 7 and 9:30\n",
    "\n",
    "- Merging the trips with the calender file \n",
    "\n",
    "- Now we are only fetching the trips that are on week days "
   ]
  },
  {
   "cell_type": "code",
   "execution_count": 14,
   "metadata": {},
   "outputs": [
    {
     "data": {
      "text/html": [
       "<div>\n",
       "<style scoped>\n",
       "    .dataframe tbody tr th:only-of-type {\n",
       "        vertical-align: middle;\n",
       "    }\n",
       "\n",
       "    .dataframe tbody tr th {\n",
       "        vertical-align: top;\n",
       "    }\n",
       "\n",
       "    .dataframe thead th {\n",
       "        text-align: right;\n",
       "    }\n",
       "</style>\n",
       "<table border=\"1\" class=\"dataframe\">\n",
       "  <thead>\n",
       "    <tr style=\"text-align: right;\">\n",
       "      <th></th>\n",
       "      <th>stop_id</th>\n",
       "      <th>stop_name</th>\n",
       "      <th>stop_lat</th>\n",
       "      <th>stop_lon</th>\n",
       "    </tr>\n",
       "  </thead>\n",
       "  <tbody>\n",
       "    <tr>\n",
       "      <th>7</th>\n",
       "      <td>20043</td>\n",
       "      <td>Southern Cross Railway Station (Melbourne City)</td>\n",
       "      <td>-37.818334</td>\n",
       "      <td>144.952525</td>\n",
       "    </tr>\n",
       "    <tr>\n",
       "      <th>319</th>\n",
       "      <td>22180</td>\n",
       "      <td>Southern Cross Railway Station (Melbourne City)</td>\n",
       "      <td>-37.817936</td>\n",
       "      <td>144.951411</td>\n",
       "    </tr>\n",
       "  </tbody>\n",
       "</table>\n",
       "</div>"
      ],
      "text/plain": [
       "     stop_id                                        stop_name   stop_lat  \\\n",
       "7      20043  Southern Cross Railway Station (Melbourne City) -37.818334   \n",
       "319    22180  Southern Cross Railway Station (Melbourne City) -37.817936   \n",
       "\n",
       "       stop_lon  \n",
       "7    144.952525  \n",
       "319  144.951411  "
      ]
     },
     "execution_count": 14,
     "metadata": {},
     "output_type": "execute_result"
    }
   ],
   "source": [
    "text_file[text_file['stop_name'] == 'Southern Cross Railway Station (Melbourne City)']"
   ]
  },
  {
   "cell_type": "code",
   "execution_count": 15,
   "metadata": {},
   "outputs": [],
   "source": [
    "# merge stops and trips based on the trip id \n",
    "merged_trips = pd.merge(stops, trips, how='left',on=\"trip_id\")\n",
    "\n",
    "# from the trips only extracting the trip id associated to the southern cross \n",
    "ids = merged_trips['trip_id'][((merged_trips['stop_id'] == 20043) | (merged_trips['stop_id'] == 22180))] \n",
    "\n",
    "# checking whether the id is in the trips or not \n",
    "id = merged_trips[merged_trips['trip_id'].isin(ids)]\n",
    "\n",
    "# checking the trip is in the date range of 7 and 9:30\n",
    "required_trips = id[(id['departure_time']>=datetime.time(7,0,0)) &(id['departure_time']<=datetime.time(9,30,0))]\n",
    "\n",
    "# merging the trips with the calender based on the service id \n",
    "merge_trips = pd.merge(required_trips, calendar, how='left',on=\"service_id\")\n",
    "\n",
    "# Final extracting the trips associated with on all week days \n",
    "final_trip = merge_trips[(merge_trips['monday'] == 1) & (merge_trips['tuesday'] == 1) & (merge_trips['wednesday'] == 1) & (merge_trips['thursday'] == 1) & (merge_trips['friday'] == 1)]\n"
   ]
  },
  {
   "cell_type": "markdown",
   "metadata": {},
   "source": [
    "We are dropping the unnecessary columns from the data frame "
   ]
  },
  {
   "cell_type": "code",
   "execution_count": 16,
   "metadata": {},
   "outputs": [],
   "source": [
    "final_trip = final_trip.drop(['stop_sequence',\n",
    "       'stop_headsign', 'pickup_type', 'drop_off_type', 'shape_dist_traveled',\n",
    "       'route_id', 'service_id', 'shape_id', 'trip_headsign','monday', 'tuesday', 'wednesday', 'thursday', 'friday', 'saturday',\n",
    "       'sunday', 'start_date', 'end_date'\n",
    "       ],axis=1)"
   ]
  },
  {
   "cell_type": "markdown",
   "metadata": {},
   "source": [
    "We are merging the final_trip with the stops based on the stop id to fetch all the trips\n",
    "   - we are dropping all the duplicates \n",
    "   - resetting the index for the data frame "
   ]
  },
  {
   "cell_type": "code",
   "execution_count": 17,
   "metadata": {},
   "outputs": [],
   "source": [
    "final_trip = pd.merge(final_trip, text_file, how='left',on=\"stop_id\")\n",
    "final_trip1 = final_trip.drop_duplicates()\n",
    "final_trip1= final_trip1.reset_index(drop=True)"
   ]
  },
  {
   "cell_type": "markdown",
   "metadata": {},
   "source": [
    "We are creating the empty columns for attaching the values to the data frame \n",
    "    - train_station_id\n",
    "    - distance_to_train_station"
   ]
  },
  {
   "cell_type": "code",
   "execution_count": 18,
   "metadata": {},
   "outputs": [],
   "source": [
    "stop_id = final_trip1['stop_id'] # fetching the unique station ids \n",
    "stop_id = stop_id.drop_duplicates() # taking the ujnique stop ids in the data frame\n",
    "stop_id = stop_id.tolist() # Converting it to the list\n",
    "data['train_station_id'] = \"\"\n",
    "data['distance_to_train_station'] = \"\""
   ]
  },
  {
   "cell_type": "markdown",
   "metadata": {},
   "source": [
    "## Fetching the station id and distance to the station id from the latitude positions \n",
    "\n",
    "We are caluclating the distance for each stop id and checking minimum distaance and also checking whether we it have trip to southern cross station.\n",
    "\n",
    "We are considering closet station as that which has only the direct trips "
   ]
  },
  {
   "cell_type": "code",
   "execution_count": 19,
   "metadata": {
    "scrolled": true
   },
   "outputs": [
    {
     "name": "stderr",
     "output_type": "stream",
     "text": [
      "C:\\Users\\V.PAVAN\\Anaconda3\\lib\\site-packages\\ipykernel_launcher.py:39: SettingWithCopyWarning: \n",
      "A value is trying to be set on a copy of a slice from a DataFrame\n",
      "\n",
      "See the caveats in the documentation: http://pandas.pydata.org/pandas-docs/stable/indexing.html#indexing-view-versus-copy\n",
      "C:\\Users\\V.PAVAN\\Anaconda3\\lib\\site-packages\\ipykernel_launcher.py:40: SettingWithCopyWarning: \n",
      "A value is trying to be set on a copy of a slice from a DataFrame\n",
      "\n",
      "See the caveats in the documentation: http://pandas.pydata.org/pandas-docs/stable/indexing.html#indexing-view-versus-copy\n",
      "C:\\Users\\V.PAVAN\\Anaconda3\\lib\\site-packages\\ipykernel_launcher.py:26: SettingWithCopyWarning: \n",
      "A value is trying to be set on a copy of a slice from a DataFrame\n",
      "\n",
      "See the caveats in the documentation: http://pandas.pydata.org/pandas-docs/stable/indexing.html#indexing-view-versus-copy\n",
      "C:\\Users\\V.PAVAN\\Anaconda3\\lib\\site-packages\\ipykernel_launcher.py:27: SettingWithCopyWarning: \n",
      "A value is trying to be set on a copy of a slice from a DataFrame\n",
      "\n",
      "See the caveats in the documentation: http://pandas.pydata.org/pandas-docs/stable/indexing.html#indexing-view-versus-copy\n"
     ]
    }
   ],
   "source": [
    "mini = [] # creating the lsit to store the variables \n",
    "# caluclating the distance of the station by using the formaula\n",
    "for j in range(len(data)):\n",
    "    lat1 = radians(data['Lattitude'][j]) \n",
    "    lon1 = radians(data['Longtitude'][j])\n",
    "    d = {}\n",
    "    for i in range(len(text_file)):\n",
    "        R = 6378000\n",
    "        lat2 = radians(text_file['stop_lat'][i])\n",
    "        lon2 = radians(text_file['stop_lon'][i])\n",
    "        dlon = lon2 - lon1\n",
    "        dlat = lat2 - lat1\n",
    "        a = sin(dlat / 2)**2 + cos(lat1) * cos(lat2) * sin(dlon / 2)**2\n",
    "        c = 2 * atan2(sqrt(a), sqrt(1 - a))\n",
    "        distance = R * c\n",
    "        d[text_file['stop_id'][i]] = distance\n",
    "    #sorting the dict items for the values \n",
    "    sorted_dict = sorted(d.items(),key=operator.itemgetter(1))\n",
    "    g = dict(sorted_dict) # converting the list of tuples as dict \n",
    "    find = 0 # intializing the find variable \n",
    "    found = False # setting the flag for breaking the loop \n",
    "    for k in range(len(g)):\n",
    "        if list(g.keys())[k] in stop_id:# picking the stop id only if it is in the stop id staisfying the conditions, in between time and trips with weekdays \n",
    "            p1 = list(g.keys())[k] # taking the key \n",
    "            if((p1 == 22180) | (p1 == 20043)): # if the stop id is southern cross, then we are directly assigning \n",
    "                data['train_station_id'][j] = list(g.keys())[k] # we are appending the station id to column of data frame\n",
    "                data['distance_to_train_station'][j] = g[list(g.keys())[k]]\n",
    "                found = True\n",
    "                break # we are breaking the loop \n",
    "            else:# else we are checking the conditions and finding whether the nearest station has direct trip or not \n",
    "                pa = final_trip1['trip_id'][final_trip1['stop_id']== p1].tolist()\n",
    "                #considering the station only if it has direct trip to southern cross\n",
    "                for pb in pa:\n",
    "                    p2 = pb.strip()\n",
    "                    a = stops[(stops['trip_id']==p2) & (stops['stop_id']==p1)] # taking the stop sequence of stop id\n",
    "                    b = stops[(stops['trip_id']==p2) & ((stops['stop_id']==22180) |  (stops['stop_id']==20043))] # taking the stop sequence of southern cross station\n",
    "                    if(int(a['stop_sequence']) < int(b['stop_sequence'])): # comparing the sequence and the we are fetching the station id and distance \n",
    "                        find += list(g.keys())[k]\n",
    "                        data['train_station_id'][j] = list(g.keys())[k] # we are appending the station id to column of data frame\n",
    "                        data['distance_to_train_station'][j] = g[list(g.keys())[k]] # we are appending the distance to the column of a data frame \n",
    "                        found = True\n",
    "                        break # we are breaking the loop after shortest find with the direct trip \n",
    "        if found:\n",
    "            break # we are terminating the entire loop\n",
    "    "
   ]
  },
  {
   "cell_type": "markdown",
   "metadata": {},
   "source": [
    "## 4.caluclating the travel time \n",
    "\n",
    "First we are only taking the unique station ids, since we can see that in our data for many locations near station will be same \n",
    "\n",
    "Based on the sation id, we are taking out trip ids associated with that station, from the filtered trips schedules \n",
    "\n",
    "Then caluclating the travel time and and for all the trips we are caluclating the avg time."
   ]
  },
  {
   "cell_type": "code",
   "execution_count": 20,
   "metadata": {},
   "outputs": [],
   "source": [
    "# they are similar boarding station id for many of the locations, So considering the unique of the station ids\n",
    "# then caluclating the travel time from that station to the southern cross \n",
    "station = data['train_station_id'].tolist() # fetching the unique rows from the station ids \n",
    "my_set = set(station)\n",
    "my_list = list(my_set)"
   ]
  },
  {
   "cell_type": "code",
   "execution_count": 21,
   "metadata": {
    "scrolled": true
   },
   "outputs": [],
   "source": [
    "trip_time = []\n",
    "for i in range(len(my_list)):\n",
    "    p1 = my_list[i] # picking the boarding station id from the list \n",
    "    pa = final_trip1['trip_id'][final_trip1['stop_id']== p1].tolist() # fecthing all the trips from the particular station id  \n",
    "    check = [] # list used to store travel time for all the trips from the station to southern cross\n",
    "    for pb in pa: \n",
    "        p2 = pb.strip() # removing the empty spaces at the start of the string \n",
    "        a = stops[(stops['trip_id']==p2) & (stops['stop_id']==p1)] # extracting the column, with the trip id and stopid \n",
    "        b = stops[(stops['trip_id']==p2) & ((stops['stop_id']==22180) |  (stops['stop_id']==20043))] # extracting column with the southern cross station of same trip \n",
    "        if(int(a['stop_sequence']) < int(b['stop_sequence'])): # checking the stop sequence\n",
    "            # if our boarding station stop sequence is less than the southern cross station only these we are considering  \n",
    "            time1 = a['departure_time'].to_string(index=False).strip() # taking the departure time of boarding time for the trip \n",
    "            time2 = b['arrival_time'].to_string(index=False).strip() # taking the arrival time of the southern cross reaching time for the trip\n",
    "            \n",
    "            datetime_object1 = datetime.datetime.strptime(time1, '%H:%M:%S') # converting the string type to date time object \n",
    "            datetime_object2 = datetime.datetime.strptime(time2, '%H:%M:%S') \n",
    "            diff = datetime_object2 - datetime_object1 # caluclating the time difference \n",
    "            check.append(diff.seconds/60)# converting it to seconds and appending it to the lsit \n",
    "            # since we will have many trips from the station to southern cross in time range 7 to 9:30\n",
    "    if len(check) > 0: \n",
    "        avg = int(statistics.mean(check)) # find the average of all the travels \n",
    "        trip_time.append(avg) # appending it to the list \n",
    "        #print(avg)\n",
    "    else:\n",
    "        trip_time.append(0)\n"
   ]
  },
  {
   "cell_type": "code",
   "execution_count": 22,
   "metadata": {},
   "outputs": [],
   "source": [
    "# converting it to the data frame and merging with the original transform\n",
    "new_data = pd.DataFrame()\n",
    "new_data['station'] = my_list\n",
    "new_data['time'] = trip_time \n",
    "data =  pd.merge(data,new_data,left_on = \"train_station_id\", right_on = \"station\", how = \"left\")\n",
    "data = data.rename(columns={'time': 'travel_min_to_CBD'})\n",
    "data = data.drop(['station'],axis=1)"
   ]
  },
  {
   "cell_type": "markdown",
   "metadata": {},
   "source": [
    "## 5. Over Price\n",
    "Created the new data frame with the required columns and to check the over price or not "
   ]
  },
  {
   "cell_type": "code",
   "execution_count": 23,
   "metadata": {},
   "outputs": [
    {
     "name": "stderr",
     "output_type": "stream",
     "text": [
      "C:\\Users\\V.PAVAN\\Anaconda3\\lib\\site-packages\\ipykernel_launcher.py:20: SettingWithCopyWarning: \n",
      "A value is trying to be set on a copy of a slice from a DataFrame\n",
      "\n",
      "See the caveats in the documentation: http://pandas.pydata.org/pandas-docs/stable/indexing.html#indexing-view-versus-copy\n"
     ]
    }
   ],
   "source": [
    "\n",
    "new = data[['Suburb','Rooms','Bathroom','Car','Type','Price','Date']].copy() # creating the new data frame \n",
    "l = list(range(0, 684)) # this is to add the index to the data frame for easy retreving of the information \n",
    "new['year'] = pd.to_datetime(new['Date'])\n",
    "new['Sell Year'] = new['year'].dt.year\n",
    "new['add'] = l\n",
    "new[\"Boolean\"] = \"\"\n",
    "# finding all the duplicated rows from the sliced data frame \n",
    "duplicates = new[new[['Suburb','Rooms','Bathroom','Car','Type','Sell Year']].duplicated() == True] # finding all the duplicated rows \n",
    "duplicates.reset_index(inplace = True)\n",
    "# Now we are taking the median price of all the duplicate columns \n",
    "for i in range(len(duplicates)):\n",
    "    price = []\n",
    "    got =new[(new['Suburb'] == duplicates['Suburb'][i] ) & (new['Rooms'] == duplicates['Rooms'][i]) & (new['Bathroom'] == duplicates['Bathroom'][i] ) & (new['Car'] == duplicates['Car'][i]) & (new['Type'] ==  duplicates['Type'][i] ) & (new['Sell Year'] == duplicates['Sell Year'][i] ) ]\n",
    "    price = got['Price']\n",
    "    val = got['add'].tolist()\n",
    "    med = median(price)# caluclating the median price \n",
    "    for i in range(len(val)):\n",
    "        a = int(val[i])\n",
    "        new[\"Boolean\"][a] = med"
   ]
  },
  {
   "cell_type": "markdown",
   "metadata": {},
   "source": [
    "\n",
    "Comparing the price with the median price\n",
    "\n",
    "Assigning the default value as -1 for unique property \n",
    "\n",
    "If the price is same as median or less than median price of the property we are assigning 0\n",
    "    \n",
    "If the price is greater than the median price we are appending the 1"
   ]
  },
  {
   "cell_type": "code",
   "execution_count": 24,
   "metadata": {},
   "outputs": [],
   "source": [
    "new['Boolean'].replace('',0, inplace=True)\n",
    "col = []\n",
    "for i in range(len(new)):\n",
    "    if new['Boolean'][i] == 0:# checking with the median price if 0 \n",
    "        col.append(0)\n",
    "    elif new['Price'][i] <= new['Boolean'][i]: # price less than the median price append 0 \n",
    "        col.append(0)\n",
    "    else:\n",
    "        col.append(1)# price more than the median price append 1 \n",
    "data['over_priced?'] = col"
   ]
  },
  {
   "cell_type": "code",
   "execution_count": 25,
   "metadata": {},
   "outputs": [],
   "source": [
    "data = data.drop(['Council'],axis=1) # dropping the excess columns "
   ]
  },
  {
   "cell_type": "code",
   "execution_count": 26,
   "metadata": {},
   "outputs": [
    {
     "data": {
      "text/plain": [
       "(684, 20)"
      ]
     },
     "execution_count": 26,
     "metadata": {},
     "output_type": "execute_result"
    }
   ],
   "source": [
    "data.shape # shape of the file "
   ]
  },
  {
   "cell_type": "code",
   "execution_count": 27,
   "metadata": {},
   "outputs": [],
   "source": [
    "data.to_csv (r'29772990_solution.csv', index = None, header=True) # writing to excel file"
   ]
  },
  {
   "cell_type": "code",
   "execution_count": 28,
   "metadata": {},
   "outputs": [
    {
     "data": {
      "text/html": [
       "<div>\n",
       "<style scoped>\n",
       "    .dataframe tbody tr th:only-of-type {\n",
       "        vertical-align: middle;\n",
       "    }\n",
       "\n",
       "    .dataframe tbody tr th {\n",
       "        vertical-align: top;\n",
       "    }\n",
       "\n",
       "    .dataframe thead th {\n",
       "        text-align: right;\n",
       "    }\n",
       "</style>\n",
       "<table border=\"1\" class=\"dataframe\">\n",
       "  <thead>\n",
       "    <tr style=\"text-align: right;\">\n",
       "      <th></th>\n",
       "      <th>ID</th>\n",
       "      <th>Address</th>\n",
       "      <th>Rooms</th>\n",
       "      <th>Type</th>\n",
       "      <th>Price</th>\n",
       "      <th>Date</th>\n",
       "      <th>Bathroom</th>\n",
       "      <th>Car</th>\n",
       "      <th>Landsize</th>\n",
       "      <th>Age</th>\n",
       "      <th>Lattitude</th>\n",
       "      <th>Longtitude</th>\n",
       "      <th>Suburb</th>\n",
       "      <th>crime_A_average</th>\n",
       "      <th>crime_B_average</th>\n",
       "      <th>crime_C_average</th>\n",
       "      <th>train_station_id</th>\n",
       "      <th>distance_to_train_station</th>\n",
       "      <th>travel_min_to_CBD</th>\n",
       "      <th>over_priced?</th>\n",
       "    </tr>\n",
       "  </thead>\n",
       "  <tbody>\n",
       "    <tr>\n",
       "      <th>0</th>\n",
       "      <td>ID578860701</td>\n",
       "      <td>33 Bedford St</td>\n",
       "      <td>3</td>\n",
       "      <td>h</td>\n",
       "      <td>860000.0</td>\n",
       "      <td>23/09/2017</td>\n",
       "      <td>2.0</td>\n",
       "      <td>2.0</td>\n",
       "      <td>593.0</td>\n",
       "      <td>5.0</td>\n",
       "      <td>-37.72057</td>\n",
       "      <td>144.87558</td>\n",
       "      <td>AIRPORT WEST</td>\n",
       "      <td>1214.67</td>\n",
       "      <td>5603.67</td>\n",
       "      <td>375.333</td>\n",
       "      <td>20033</td>\n",
       "      <td>4055.59</td>\n",
       "      <td>34</td>\n",
       "      <td>0</td>\n",
       "    </tr>\n",
       "    <tr>\n",
       "      <th>1</th>\n",
       "      <td>ID464458363</td>\n",
       "      <td>9 Dorset St</td>\n",
       "      <td>4</td>\n",
       "      <td>t</td>\n",
       "      <td>1170000.0</td>\n",
       "      <td>9/09/2017</td>\n",
       "      <td>3.0</td>\n",
       "      <td>2.0</td>\n",
       "      <td>725.0</td>\n",
       "      <td>83.0</td>\n",
       "      <td>-37.89868</td>\n",
       "      <td>145.14635</td>\n",
       "      <td>GLEN WAVERLEY</td>\n",
       "      <td>56.3333</td>\n",
       "      <td>98.3333</td>\n",
       "      <td>19</td>\n",
       "      <td>22249</td>\n",
       "      <td>3676.78</td>\n",
       "      <td>33</td>\n",
       "      <td>0</td>\n",
       "    </tr>\n",
       "    <tr>\n",
       "      <th>2</th>\n",
       "      <td>ID917430410</td>\n",
       "      <td>5/28 Eleanor St</td>\n",
       "      <td>2</td>\n",
       "      <td>t</td>\n",
       "      <td>480000.0</td>\n",
       "      <td>6/08/2016</td>\n",
       "      <td>1.0</td>\n",
       "      <td>1.0</td>\n",
       "      <td>556.0</td>\n",
       "      <td>9.0</td>\n",
       "      <td>-37.79190</td>\n",
       "      <td>144.88540</td>\n",
       "      <td>FOOTSCRAY</td>\n",
       "      <td>1923.67</td>\n",
       "      <td>8979.33</td>\n",
       "      <td>620.333</td>\n",
       "      <td>20023</td>\n",
       "      <td>1103.03</td>\n",
       "      <td>19</td>\n",
       "      <td>0</td>\n",
       "    </tr>\n",
       "    <tr>\n",
       "      <th>3</th>\n",
       "      <td>ID344040544</td>\n",
       "      <td>108 Willsmere Rd</td>\n",
       "      <td>3</td>\n",
       "      <td>h</td>\n",
       "      <td>1775000.0</td>\n",
       "      <td>19/08/2017</td>\n",
       "      <td>2.0</td>\n",
       "      <td>4.0</td>\n",
       "      <td>733.0</td>\n",
       "      <td>114.0</td>\n",
       "      <td>-37.79398</td>\n",
       "      <td>145.03777</td>\n",
       "      <td>KEW</td>\n",
       "      <td>288</td>\n",
       "      <td>712</td>\n",
       "      <td>75.6667</td>\n",
       "      <td>19931</td>\n",
       "      <td>1827.25</td>\n",
       "      <td>24</td>\n",
       "      <td>0</td>\n",
       "    </tr>\n",
       "    <tr>\n",
       "      <th>4</th>\n",
       "      <td>ID948004615</td>\n",
       "      <td>6 Brigden Ct</td>\n",
       "      <td>3</td>\n",
       "      <td>h</td>\n",
       "      <td>663500.0</td>\n",
       "      <td>3/06/2017</td>\n",
       "      <td>2.0</td>\n",
       "      <td>1.0</td>\n",
       "      <td>991.0</td>\n",
       "      <td>104.0</td>\n",
       "      <td>-37.65887</td>\n",
       "      <td>145.06254</td>\n",
       "      <td>MILL PARK</td>\n",
       "      <td>1508.33</td>\n",
       "      <td>6073</td>\n",
       "      <td>553.667</td>\n",
       "      <td>45795</td>\n",
       "      <td>1151.25</td>\n",
       "      <td>49</td>\n",
       "      <td>0</td>\n",
       "    </tr>\n",
       "  </tbody>\n",
       "</table>\n",
       "</div>"
      ],
      "text/plain": [
       "            ID           Address  Rooms Type      Price        Date  Bathroom  \\\n",
       "0  ID578860701     33 Bedford St      3    h   860000.0  23/09/2017       2.0   \n",
       "1  ID464458363       9 Dorset St      4    t  1170000.0   9/09/2017       3.0   \n",
       "2  ID917430410   5/28 Eleanor St      2    t   480000.0   6/08/2016       1.0   \n",
       "3  ID344040544  108 Willsmere Rd      3    h  1775000.0  19/08/2017       2.0   \n",
       "4  ID948004615      6 Brigden Ct      3    h   663500.0   3/06/2017       2.0   \n",
       "\n",
       "   Car  Landsize    Age  Lattitude  Longtitude         Suburb crime_A_average  \\\n",
       "0  2.0     593.0    5.0  -37.72057   144.87558   AIRPORT WEST         1214.67   \n",
       "1  2.0     725.0   83.0  -37.89868   145.14635  GLEN WAVERLEY         56.3333   \n",
       "2  1.0     556.0    9.0  -37.79190   144.88540      FOOTSCRAY         1923.67   \n",
       "3  4.0     733.0  114.0  -37.79398   145.03777            KEW             288   \n",
       "4  1.0     991.0  104.0  -37.65887   145.06254      MILL PARK         1508.33   \n",
       "\n",
       "  crime_B_average crime_C_average train_station_id distance_to_train_station  \\\n",
       "0         5603.67         375.333            20033                   4055.59   \n",
       "1         98.3333              19            22249                   3676.78   \n",
       "2         8979.33         620.333            20023                   1103.03   \n",
       "3             712         75.6667            19931                   1827.25   \n",
       "4            6073         553.667            45795                   1151.25   \n",
       "\n",
       "   travel_min_to_CBD  over_priced?  \n",
       "0                 34             0  \n",
       "1                 33             0  \n",
       "2                 19             0  \n",
       "3                 24             0  \n",
       "4                 49             0  "
      ]
     },
     "execution_count": 28,
     "metadata": {},
     "output_type": "execute_result"
    }
   ],
   "source": [
    "data.head()"
   ]
  },
  {
   "cell_type": "markdown",
   "metadata": {},
   "source": [
    "# Task 2 Data Reshapping "
   ]
  },
  {
   "cell_type": "markdown",
   "metadata": {},
   "source": [
    "We are considering the four columns \n",
    "\n",
    "Rooms ,\n",
    "\n",
    "crime_C_average, \n",
    "\n",
    "travel_min_to_CBD , \n",
    "\n",
    "property_age \n",
    "\n",
    "attributes as the predictors for the Price column \n",
    "\n",
    "for the target variable \"Price\""
   ]
  },
  {
   "cell_type": "code",
   "execution_count": 29,
   "metadata": {},
   "outputs": [
    {
     "data": {
      "text/html": [
       "<div>\n",
       "<style scoped>\n",
       "    .dataframe tbody tr th:only-of-type {\n",
       "        vertical-align: middle;\n",
       "    }\n",
       "\n",
       "    .dataframe tbody tr th {\n",
       "        vertical-align: top;\n",
       "    }\n",
       "\n",
       "    .dataframe thead th {\n",
       "        text-align: right;\n",
       "    }\n",
       "</style>\n",
       "<table border=\"1\" class=\"dataframe\">\n",
       "  <thead>\n",
       "    <tr style=\"text-align: right;\">\n",
       "      <th></th>\n",
       "      <th>Age</th>\n",
       "      <th>travel_min_to_CBD</th>\n",
       "      <th>crime_C_average</th>\n",
       "      <th>Rooms</th>\n",
       "      <th>Price</th>\n",
       "    </tr>\n",
       "  </thead>\n",
       "  <tbody>\n",
       "    <tr>\n",
       "      <th>0</th>\n",
       "      <td>5.0</td>\n",
       "      <td>34</td>\n",
       "      <td>375.333</td>\n",
       "      <td>3</td>\n",
       "      <td>860000.0</td>\n",
       "    </tr>\n",
       "    <tr>\n",
       "      <th>1</th>\n",
       "      <td>83.0</td>\n",
       "      <td>33</td>\n",
       "      <td>19</td>\n",
       "      <td>4</td>\n",
       "      <td>1170000.0</td>\n",
       "    </tr>\n",
       "    <tr>\n",
       "      <th>2</th>\n",
       "      <td>9.0</td>\n",
       "      <td>19</td>\n",
       "      <td>620.333</td>\n",
       "      <td>2</td>\n",
       "      <td>480000.0</td>\n",
       "    </tr>\n",
       "    <tr>\n",
       "      <th>3</th>\n",
       "      <td>114.0</td>\n",
       "      <td>24</td>\n",
       "      <td>75.6667</td>\n",
       "      <td>3</td>\n",
       "      <td>1775000.0</td>\n",
       "    </tr>\n",
       "    <tr>\n",
       "      <th>4</th>\n",
       "      <td>104.0</td>\n",
       "      <td>49</td>\n",
       "      <td>553.667</td>\n",
       "      <td>3</td>\n",
       "      <td>663500.0</td>\n",
       "    </tr>\n",
       "  </tbody>\n",
       "</table>\n",
       "</div>"
      ],
      "text/plain": [
       "     Age  travel_min_to_CBD crime_C_average  Rooms      Price\n",
       "0    5.0                 34         375.333      3   860000.0\n",
       "1   83.0                 33              19      4  1170000.0\n",
       "2    9.0                 19         620.333      2   480000.0\n",
       "3  114.0                 24         75.6667      3  1775000.0\n",
       "4  104.0                 49         553.667      3   663500.0"
      ]
     },
     "execution_count": 29,
     "metadata": {},
     "output_type": "execute_result"
    }
   ],
   "source": [
    "#Data frame has been created for the columns \n",
    "trans = data[['Age', 'travel_min_to_CBD', 'crime_C_average','Rooms','Price']]\n",
    "trans.head()"
   ]
  },
  {
   "cell_type": "code",
   "execution_count": 30,
   "metadata": {},
   "outputs": [
    {
     "data": {
      "text/html": [
       "<div>\n",
       "<style scoped>\n",
       "    .dataframe tbody tr th:only-of-type {\n",
       "        vertical-align: middle;\n",
       "    }\n",
       "\n",
       "    .dataframe tbody tr th {\n",
       "        vertical-align: top;\n",
       "    }\n",
       "\n",
       "    .dataframe thead th {\n",
       "        text-align: right;\n",
       "    }\n",
       "</style>\n",
       "<table border=\"1\" class=\"dataframe\">\n",
       "  <thead>\n",
       "    <tr style=\"text-align: right;\">\n",
       "      <th></th>\n",
       "      <th>Age</th>\n",
       "      <th>travel_min_to_CBD</th>\n",
       "      <th>Rooms</th>\n",
       "      <th>Price</th>\n",
       "    </tr>\n",
       "  </thead>\n",
       "  <tbody>\n",
       "    <tr>\n",
       "      <th>count</th>\n",
       "      <td>684.000000</td>\n",
       "      <td>684.000000</td>\n",
       "      <td>684.000000</td>\n",
       "      <td>6.840000e+02</td>\n",
       "    </tr>\n",
       "    <tr>\n",
       "      <th>mean</th>\n",
       "      <td>55.589181</td>\n",
       "      <td>25.225146</td>\n",
       "      <td>2.928363</td>\n",
       "      <td>1.120052e+06</td>\n",
       "    </tr>\n",
       "    <tr>\n",
       "      <th>std</th>\n",
       "      <td>37.412613</td>\n",
       "      <td>10.779116</td>\n",
       "      <td>0.927448</td>\n",
       "      <td>6.886399e+05</td>\n",
       "    </tr>\n",
       "    <tr>\n",
       "      <th>min</th>\n",
       "      <td>2.000000</td>\n",
       "      <td>0.000000</td>\n",
       "      <td>1.000000</td>\n",
       "      <td>2.100000e+05</td>\n",
       "    </tr>\n",
       "    <tr>\n",
       "      <th>25%</th>\n",
       "      <td>21.000000</td>\n",
       "      <td>18.000000</td>\n",
       "      <td>2.000000</td>\n",
       "      <td>6.487500e+05</td>\n",
       "    </tr>\n",
       "    <tr>\n",
       "      <th>50%</th>\n",
       "      <td>49.000000</td>\n",
       "      <td>25.000000</td>\n",
       "      <td>3.000000</td>\n",
       "      <td>9.475000e+05</td>\n",
       "    </tr>\n",
       "    <tr>\n",
       "      <th>75%</th>\n",
       "      <td>81.500000</td>\n",
       "      <td>32.000000</td>\n",
       "      <td>3.000000</td>\n",
       "      <td>1.370000e+06</td>\n",
       "    </tr>\n",
       "    <tr>\n",
       "      <th>max</th>\n",
       "      <td>151.000000</td>\n",
       "      <td>68.000000</td>\n",
       "      <td>7.000000</td>\n",
       "      <td>6.500000e+06</td>\n",
       "    </tr>\n",
       "  </tbody>\n",
       "</table>\n",
       "</div>"
      ],
      "text/plain": [
       "              Age  travel_min_to_CBD       Rooms         Price\n",
       "count  684.000000         684.000000  684.000000  6.840000e+02\n",
       "mean    55.589181          25.225146    2.928363  1.120052e+06\n",
       "std     37.412613          10.779116    0.927448  6.886399e+05\n",
       "min      2.000000           0.000000    1.000000  2.100000e+05\n",
       "25%     21.000000          18.000000    2.000000  6.487500e+05\n",
       "50%     49.000000          25.000000    3.000000  9.475000e+05\n",
       "75%     81.500000          32.000000    3.000000  1.370000e+06\n",
       "max    151.000000          68.000000    7.000000  6.500000e+06"
      ]
     },
     "execution_count": 30,
     "metadata": {},
     "output_type": "execute_result"
    }
   ],
   "source": [
    "trans.describe()"
   ]
  },
  {
   "cell_type": "markdown",
   "metadata": {},
   "source": [
    "As we can see from the above table we can see that all the columns with respect to the price are different, Now we will be scaling them to the one scale "
   ]
  },
  {
   "cell_type": "markdown",
   "metadata": {},
   "source": [
    "Min-max normalization: Guarantees all features will have the exact same scale but does not handle outliers well.\n",
    "    \n",
    "Z-score normalization: Handles outliers, but does not produce normalized data with the exact same scale."
   ]
  },
  {
   "cell_type": "markdown",
   "metadata": {},
   "source": [
    "# 1. MinMax Noramlisation:"
   ]
  },
  {
   "cell_type": "code",
   "execution_count": 31,
   "metadata": {},
   "outputs": [
    {
     "data": {
      "text/plain": [
       "array([[0.02013423, 0.5       , 0.18337688, 0.33333333],\n",
       "       [0.54362416, 0.48529412, 0.00881777, 0.5       ],\n",
       "       [0.04697987, 0.27941176, 0.30339647, 0.16666667],\n",
       "       [0.75167785, 0.35294118, 0.0365774 , 0.33333333],\n",
       "       [0.68456376, 0.72058824, 0.27073808, 0.33333333]])"
      ]
     },
     "execution_count": 31,
     "metadata": {},
     "output_type": "execute_result"
    }
   ],
   "source": [
    "#scaling the values using the MinMax Normalization\n",
    "minmax_scale = preprocessing.MinMaxScaler().fit(trans[['Age', 'travel_min_to_CBD', 'crime_C_average','Rooms']])\n",
    "df_minmax = minmax_scale.transform(trans[['Age', 'travel_min_to_CBD', 'crime_C_average','Rooms']]) # \n",
    "df_minmax[0:5]"
   ]
  },
  {
   "cell_type": "markdown",
   "metadata": {},
   "source": [
    "We are adding the scaled values to the data frame "
   ]
  },
  {
   "cell_type": "code",
   "execution_count": 32,
   "metadata": {},
   "outputs": [
    {
     "name": "stderr",
     "output_type": "stream",
     "text": [
      "C:\\Users\\V.PAVAN\\Anaconda3\\lib\\site-packages\\ipykernel_launcher.py:2: SettingWithCopyWarning: \n",
      "A value is trying to be set on a copy of a slice from a DataFrame.\n",
      "Try using .loc[row_indexer,col_indexer] = value instead\n",
      "\n",
      "See the caveats in the documentation: http://pandas.pydata.org/pandas-docs/stable/indexing.html#indexing-view-versus-copy\n",
      "  \n",
      "C:\\Users\\V.PAVAN\\Anaconda3\\lib\\site-packages\\ipykernel_launcher.py:3: SettingWithCopyWarning: \n",
      "A value is trying to be set on a copy of a slice from a DataFrame.\n",
      "Try using .loc[row_indexer,col_indexer] = value instead\n",
      "\n",
      "See the caveats in the documentation: http://pandas.pydata.org/pandas-docs/stable/indexing.html#indexing-view-versus-copy\n",
      "  This is separate from the ipykernel package so we can avoid doing imports until\n",
      "C:\\Users\\V.PAVAN\\Anaconda3\\lib\\site-packages\\ipykernel_launcher.py:4: SettingWithCopyWarning: \n",
      "A value is trying to be set on a copy of a slice from a DataFrame.\n",
      "Try using .loc[row_indexer,col_indexer] = value instead\n",
      "\n",
      "See the caveats in the documentation: http://pandas.pydata.org/pandas-docs/stable/indexing.html#indexing-view-versus-copy\n",
      "  after removing the cwd from sys.path.\n",
      "C:\\Users\\V.PAVAN\\Anaconda3\\lib\\site-packages\\ipykernel_launcher.py:5: SettingWithCopyWarning: \n",
      "A value is trying to be set on a copy of a slice from a DataFrame.\n",
      "Try using .loc[row_indexer,col_indexer] = value instead\n",
      "\n",
      "See the caveats in the documentation: http://pandas.pydata.org/pandas-docs/stable/indexing.html#indexing-view-versus-copy\n",
      "  \"\"\"\n"
     ]
    }
   ],
   "source": [
    "#Adding the sclaed values to the data frame\n",
    "trans['Max_age'] = df_minmax[:,0] # So max_age is scaled values of age \n",
    "trans['Max_travel'] = df_minmax[:,1] # So max_travel is scaled values of minumum travel time to CBD \n",
    "trans['Max_crime'] = df_minmax[:,2] #\n",
    "trans['Max_room'] = df_minmax[:,3]"
   ]
  },
  {
   "cell_type": "markdown",
   "metadata": {},
   "source": [
    "The normalized value of max must be 1.0 exactly"
   ]
  },
  {
   "cell_type": "code",
   "execution_count": 33,
   "metadata": {},
   "outputs": [
    {
     "name": "stdout",
     "output_type": "stream",
     "text": [
      "\n",
      "MinMax Noramlisation: (standardisation) : :\n",
      "\n",
      "Mean after standardisation:Age = 0.00, Travel Min = 0.00,Crime C = 0.00,Rooms = 0.00\n",
      "\n",
      "Standard deviation after standardisation:Age = 1.00, Travel Min = 1.00,Crime C = 1.00,Rooms = 1.00\n"
     ]
    }
   ],
   "source": [
    "print(\"\\nMinMax Noramlisation: (standardisation) : :\")\n",
    "print('\\nMean after standardisation:Age = {:.2f}, Travel Min = {:.2f},Crime C = {:.2f},Rooms = {:.2f}'\n",
    "      .format(df_minmax[:,0].min(), df_minmax[:,1].min(), df_minmax[:,2].min(),  df_minmax[:,3].min()))\n",
    "print('\\nStandard deviation after standardisation:Age = {:.2f}, Travel Min = {:.2f},Crime C = {:.2f},Rooms = {:.2f}'\n",
    "      .format(df_minmax[:,0].max(), df_minmax[:,1].max(), df_minmax[:,2].max(), df_minmax[:,3].max()))"
   ]
  },
  {
   "cell_type": "markdown",
   "metadata": {},
   "source": [
    "Min-max normalization is one of the most common ways to normalize data. \n",
    "\n",
    "For every feature, the minimum value of that feature gets transformed into a 0, the maximum value gets transformed into a 1, and every other value gets transformed into a decimal between 0 and 1."
   ]
  },
  {
   "cell_type": "code",
   "execution_count": 34,
   "metadata": {},
   "outputs": [
    {
     "data": {
      "text/html": [
       "<div>\n",
       "<style scoped>\n",
       "    .dataframe tbody tr th:only-of-type {\n",
       "        vertical-align: middle;\n",
       "    }\n",
       "\n",
       "    .dataframe tbody tr th {\n",
       "        vertical-align: top;\n",
       "    }\n",
       "\n",
       "    .dataframe thead th {\n",
       "        text-align: right;\n",
       "    }\n",
       "</style>\n",
       "<table border=\"1\" class=\"dataframe\">\n",
       "  <thead>\n",
       "    <tr style=\"text-align: right;\">\n",
       "      <th></th>\n",
       "      <th>Age</th>\n",
       "      <th>travel_min_to_CBD</th>\n",
       "      <th>crime_C_average</th>\n",
       "      <th>Rooms</th>\n",
       "      <th>Price</th>\n",
       "      <th>Max_age</th>\n",
       "      <th>Max_travel</th>\n",
       "      <th>Max_crime</th>\n",
       "      <th>Max_room</th>\n",
       "    </tr>\n",
       "  </thead>\n",
       "  <tbody>\n",
       "    <tr>\n",
       "      <th>0</th>\n",
       "      <td>5.0</td>\n",
       "      <td>34</td>\n",
       "      <td>375.333</td>\n",
       "      <td>3</td>\n",
       "      <td>860000.0</td>\n",
       "      <td>0.020134</td>\n",
       "      <td>0.500000</td>\n",
       "      <td>0.183377</td>\n",
       "      <td>0.333333</td>\n",
       "    </tr>\n",
       "    <tr>\n",
       "      <th>1</th>\n",
       "      <td>83.0</td>\n",
       "      <td>33</td>\n",
       "      <td>19</td>\n",
       "      <td>4</td>\n",
       "      <td>1170000.0</td>\n",
       "      <td>0.543624</td>\n",
       "      <td>0.485294</td>\n",
       "      <td>0.008818</td>\n",
       "      <td>0.500000</td>\n",
       "    </tr>\n",
       "    <tr>\n",
       "      <th>2</th>\n",
       "      <td>9.0</td>\n",
       "      <td>19</td>\n",
       "      <td>620.333</td>\n",
       "      <td>2</td>\n",
       "      <td>480000.0</td>\n",
       "      <td>0.046980</td>\n",
       "      <td>0.279412</td>\n",
       "      <td>0.303396</td>\n",
       "      <td>0.166667</td>\n",
       "    </tr>\n",
       "    <tr>\n",
       "      <th>3</th>\n",
       "      <td>114.0</td>\n",
       "      <td>24</td>\n",
       "      <td>75.6667</td>\n",
       "      <td>3</td>\n",
       "      <td>1775000.0</td>\n",
       "      <td>0.751678</td>\n",
       "      <td>0.352941</td>\n",
       "      <td>0.036577</td>\n",
       "      <td>0.333333</td>\n",
       "    </tr>\n",
       "    <tr>\n",
       "      <th>4</th>\n",
       "      <td>104.0</td>\n",
       "      <td>49</td>\n",
       "      <td>553.667</td>\n",
       "      <td>3</td>\n",
       "      <td>663500.0</td>\n",
       "      <td>0.684564</td>\n",
       "      <td>0.720588</td>\n",
       "      <td>0.270738</td>\n",
       "      <td>0.333333</td>\n",
       "    </tr>\n",
       "  </tbody>\n",
       "</table>\n",
       "</div>"
      ],
      "text/plain": [
       "     Age  travel_min_to_CBD crime_C_average  Rooms      Price   Max_age  \\\n",
       "0    5.0                 34         375.333      3   860000.0  0.020134   \n",
       "1   83.0                 33              19      4  1170000.0  0.543624   \n",
       "2    9.0                 19         620.333      2   480000.0  0.046980   \n",
       "3  114.0                 24         75.6667      3  1775000.0  0.751678   \n",
       "4  104.0                 49         553.667      3   663500.0  0.684564   \n",
       "\n",
       "   Max_travel  Max_crime  Max_room  \n",
       "0    0.500000   0.183377  0.333333  \n",
       "1    0.485294   0.008818  0.500000  \n",
       "2    0.279412   0.303396  0.166667  \n",
       "3    0.352941   0.036577  0.333333  \n",
       "4    0.720588   0.270738  0.333333  "
      ]
     },
     "execution_count": 34,
     "metadata": {},
     "output_type": "execute_result"
    }
   ],
   "source": [
    "trans.head()"
   ]
  },
  {
   "cell_type": "markdown",
   "metadata": {},
   "source": [
    "#### Compare the variables before and after normalization with plots\n",
    "In order to investigate how the normalization actually affect the data, we can visualize the data by plotting the variable values.\n",
    "\n",
    "can see from above graphs that both original and standardized data are in the same shape but shifted."
   ]
  },
  {
   "cell_type": "markdown",
   "metadata": {},
   "source": [
    "With min-max normalization, we were guaranteed to reshape all of our features to be between 0 and 1."
   ]
  },
  {
   "cell_type": "code",
   "execution_count": 35,
   "metadata": {},
   "outputs": [
    {
     "data": {
      "text/plain": [
       "(<matplotlib.axes._subplots.AxesSubplot at 0x1971d0812b0>,\n",
       " <matplotlib.axes._subplots.AxesSubplot at 0x1971d0812b0>)"
      ]
     },
     "execution_count": 35,
     "metadata": {},
     "output_type": "execute_result"
    },
    {
     "data": {
      "image/png": "[encoded data removed]",
      "text/plain": [
       "<Figure size 432x288 with 1 Axes>"
      ]
     },
     "metadata": {
      "needs_background": "light"
     },
     "output_type": "display_data"
    }
   ],
   "source": [
    "trans[\"Age\"].plot(), trans[\"Max_age\"].plot()"
   ]
  },
  {
   "cell_type": "code",
   "execution_count": 36,
   "metadata": {},
   "outputs": [
    {
     "data": {
      "text/plain": [
       "(<matplotlib.axes._subplots.AxesSubplot at 0x19712c00c18>,\n",
       " <matplotlib.axes._subplots.AxesSubplot at 0x19712c00c18>)"
      ]
     },
     "execution_count": 36,
     "metadata": {},
     "output_type": "execute_result"
    },
    {
     "data": {
      "image/png": "[encoded data removed]",
      "text/plain": [
       "<Figure size 432x288 with 1 Axes>"
      ]
     },
     "metadata": {
      "needs_background": "light"
     },
     "output_type": "display_data"
    }
   ],
   "source": [
    "trans[\"travel_min_to_CBD\"].plot(), trans[\"Max_travel\"].plot()"
   ]
  },
  {
   "cell_type": "code",
   "execution_count": 37,
   "metadata": {},
   "outputs": [
    {
     "data": {
      "text/plain": [
       "(<matplotlib.axes._subplots.AxesSubplot at 0x19712c80588>,\n",
       " <matplotlib.axes._subplots.AxesSubplot at 0x19712c80588>)"
      ]
     },
     "execution_count": 37,
     "metadata": {},
     "output_type": "execute_result"
    },
    {
     "data": {
      "image/png": "[encoded data removed]",
      "text/plain": [
       "<Figure size 432x288 with 1 Axes>"
      ]
     },
     "metadata": {
      "needs_background": "light"
     },
     "output_type": "display_data"
    }
   ],
   "source": [
    "trans[\"crime_C_average\"].plot(), trans[\"Max_crime\"].plot()"
   ]
  },
  {
   "cell_type": "code",
   "execution_count": 38,
   "metadata": {},
   "outputs": [
    {
     "data": {
      "text/plain": [
       "(<matplotlib.axes._subplots.AxesSubplot at 0x19712cd1588>,\n",
       " <matplotlib.axes._subplots.AxesSubplot at 0x19712cd1588>)"
      ]
     },
     "execution_count": 38,
     "metadata": {},
     "output_type": "execute_result"
    },
    {
     "data": {
      "image/png": "[encoded data removed]",
      "text/plain": [
       "<Figure size 432x288 with 1 Axes>"
      ]
     },
     "metadata": {
      "needs_background": "light"
     },
     "output_type": "display_data"
    }
   ],
   "source": [
    "trans[\"Rooms\"].plot(), trans[\"Max_room\"].plot()"
   ]
  },
  {
   "cell_type": "markdown",
   "metadata": {},
   "source": [
    "# 2. Z-Score Normalisation (standardisation):\n",
    "\n",
    "Using z-score normalization, the x-axis now has a range from about -1.5 to 1.5"
   ]
  },
  {
   "cell_type": "code",
   "execution_count": 39,
   "metadata": {},
   "outputs": [
    {
     "data": {
      "text/plain": [
       "array([[-1.35318542,  0.81465631, -0.16921556,  0.07729793],\n",
       "       [ 0.73319867,  0.72181643, -1.08559641,  1.15631397],\n",
       "       [-1.24619136, -0.57794178,  0.46084985, -1.0017181 ],\n",
       "       [ 1.5624026 , -0.11374242, -0.93986699,  0.07729793],\n",
       "       [ 1.29491746,  2.20725439,  0.28940348,  0.07729793]])"
      ]
     },
     "execution_count": 39,
     "metadata": {},
     "output_type": "execute_result"
    }
   ],
   "source": [
    "std_scale = preprocessing.StandardScaler().fit(trans[['Age', 'travel_min_to_CBD', 'crime_C_average','Rooms']])\n",
    "df_std = std_scale.transform(trans[['Age', 'travel_min_to_CBD', 'crime_C_average','Rooms']]) # an array not a df\n",
    "df_std[0:5]"
   ]
  },
  {
   "cell_type": "code",
   "execution_count": 40,
   "metadata": {},
   "outputs": [
    {
     "name": "stderr",
     "output_type": "stream",
     "text": [
      "C:\\Users\\V.PAVAN\\Anaconda3\\lib\\site-packages\\ipykernel_launcher.py:1: SettingWithCopyWarning: \n",
      "A value is trying to be set on a copy of a slice from a DataFrame.\n",
      "Try using .loc[row_indexer,col_indexer] = value instead\n",
      "\n",
      "See the caveats in the documentation: http://pandas.pydata.org/pandas-docs/stable/indexing.html#indexing-view-versus-copy\n",
      "  \"\"\"Entry point for launching an IPython kernel.\n",
      "C:\\Users\\V.PAVAN\\Anaconda3\\lib\\site-packages\\ipykernel_launcher.py:2: SettingWithCopyWarning: \n",
      "A value is trying to be set on a copy of a slice from a DataFrame.\n",
      "Try using .loc[row_indexer,col_indexer] = value instead\n",
      "\n",
      "See the caveats in the documentation: http://pandas.pydata.org/pandas-docs/stable/indexing.html#indexing-view-versus-copy\n",
      "  \n",
      "C:\\Users\\V.PAVAN\\Anaconda3\\lib\\site-packages\\ipykernel_launcher.py:3: SettingWithCopyWarning: \n",
      "A value is trying to be set on a copy of a slice from a DataFrame.\n",
      "Try using .loc[row_indexer,col_indexer] = value instead\n",
      "\n",
      "See the caveats in the documentation: http://pandas.pydata.org/pandas-docs/stable/indexing.html#indexing-view-versus-copy\n",
      "  This is separate from the ipykernel package so we can avoid doing imports until\n",
      "C:\\Users\\V.PAVAN\\Anaconda3\\lib\\site-packages\\ipykernel_launcher.py:4: SettingWithCopyWarning: \n",
      "A value is trying to be set on a copy of a slice from a DataFrame.\n",
      "Try using .loc[row_indexer,col_indexer] = value instead\n",
      "\n",
      "See the caveats in the documentation: http://pandas.pydata.org/pandas-docs/stable/indexing.html#indexing-view-versus-copy\n",
      "  after removing the cwd from sys.path.\n"
     ]
    }
   ],
   "source": [
    "trans['Z_age'] = df_std[:,0] # so 'Ascaled' is Alcohol scaled\n",
    "trans['Z_travel'] = df_std[:,1]\n",
    "trans['Z_crime'] = df_std[:,2]\n",
    "trans['Z_room'] = df_std[:,3]"
   ]
  },
  {
   "cell_type": "code",
   "execution_count": 41,
   "metadata": {},
   "outputs": [
    {
     "name": "stdout",
     "output_type": "stream",
     "text": [
      "Z Noramlisation: (standardisation) :\n",
      "\n",
      "Mean after standardisation:Age = -0.00, Travel Min = 0.00,Crime C = -0.00,Rooms = -0.00\n",
      "\n",
      "Standard deviation after standardisation:Age = 1.00, Travel Min = 1.00,Crime C = 1.00,Rooms = 1.00\n"
     ]
    }
   ],
   "source": [
    "print(\"Z Noramlisation: (standardisation) :\")\n",
    "\n",
    "print('\\nMean after standardisation:Age = {:.2f}, Travel Min = {:.2f},Crime C = {:.2f},Rooms = {:.2f}'\n",
    "      .format(df_std[:,0].mean(), df_std[:,1].mean(), df_std[:,2].mean(),  df_std[:,3].mean()))\n",
    "print('\\nStandard deviation after standardisation:Age = {:.2f}, Travel Min = {:.2f},Crime C = {:.2f},Rooms = {:.2f}'\n",
    "      .format(df_std[:,0].std(), df_std[:,1].std(), df_std[:,2].std(), df_std[:,3].std()))\n"
   ]
  },
  {
   "cell_type": "code",
   "execution_count": 42,
   "metadata": {},
   "outputs": [
    {
     "data": {
      "text/plain": [
       "(<matplotlib.axes._subplots.AxesSubplot at 0x19712d2bda0>,\n",
       " <matplotlib.axes._subplots.AxesSubplot at 0x19712d2bda0>)"
      ]
     },
     "execution_count": 42,
     "metadata": {},
     "output_type": "execute_result"
    },
    {
     "data": {
      "image/png": "[encoded data removed]",
      "text/plain": [
       "<Figure size 432x288 with 1 Axes>"
      ]
     },
     "metadata": {
      "needs_background": "light"
     },
     "output_type": "display_data"
    }
   ],
   "source": [
    "trans[\"Rooms\"].plot(), trans[\"Z_room\"].plot()"
   ]
  },
  {
   "cell_type": "code",
   "execution_count": 43,
   "metadata": {},
   "outputs": [
    {
     "data": {
      "text/plain": [
       "(<matplotlib.axes._subplots.AxesSubplot at 0x19712e2cbe0>,\n",
       " <matplotlib.axes._subplots.AxesSubplot at 0x19712e2cbe0>)"
      ]
     },
     "execution_count": 43,
     "metadata": {},
     "output_type": "execute_result"
    },
    {
     "data": {
      "image/png": "[encoded data removed]",
      "text/plain": [
       "<Figure size 432x288 with 1 Axes>"
      ]
     },
     "metadata": {
      "needs_background": "light"
     },
     "output_type": "display_data"
    }
   ],
   "source": [
    "trans[\"Age\"].plot(), trans[\"Z_age\"].plot()"
   ]
  },
  {
   "cell_type": "code",
   "execution_count": 44,
   "metadata": {},
   "outputs": [
    {
     "data": {
      "text/plain": [
       "(<matplotlib.axes._subplots.AxesSubplot at 0x19712e83630>,\n",
       " <matplotlib.axes._subplots.AxesSubplot at 0x19712e83630>)"
      ]
     },
     "execution_count": 44,
     "metadata": {},
     "output_type": "execute_result"
    },
    {
     "data": {
      "image/png": "[encoded data removed]",
      "text/plain": [
       "<Figure size 432x288 with 1 Axes>"
      ]
     },
     "metadata": {
      "needs_background": "light"
     },
     "output_type": "display_data"
    }
   ],
   "source": [
    "trans[\"crime_C_average\"].plot(), trans[\"Z_crime\"].plot()"
   ]
  },
  {
   "cell_type": "code",
   "execution_count": 45,
   "metadata": {},
   "outputs": [
    {
     "data": {
      "text/plain": [
       "(<matplotlib.axes._subplots.AxesSubplot at 0x19712ee30b8>,\n",
       " <matplotlib.axes._subplots.AxesSubplot at 0x19712ee30b8>)"
      ]
     },
     "execution_count": 45,
     "metadata": {},
     "output_type": "execute_result"
    },
    {
     "data": {
      "image/png": "[encoded data removed]",
      "text/plain": [
       "<Figure size 432x288 with 1 Axes>"
      ]
     },
     "metadata": {
      "needs_background": "light"
     },
     "output_type": "display_data"
    }
   ],
   "source": [
    "trans[\"travel_min_to_CBD\"].plot(), trans[\"Z_travel\"].plot()"
   ]
  },
  {
   "cell_type": "markdown",
   "metadata": {},
   "source": [
    "We are only considering the Min Max Standardisation \n",
    "\n",
    "After scaling the values, we know that min-max scaler works better."
   ]
  },
  {
   "cell_type": "markdown",
   "metadata": {},
   "source": [
    "# Data Transformation:"
   ]
  },
  {
   "cell_type": "markdown",
   "metadata": {},
   "source": [
    "Firstly, plot the original data, i.e., data before normalization"
   ]
  },
  {
   "cell_type": "code",
   "execution_count": 46,
   "metadata": {},
   "outputs": [
    {
     "data": {
      "text/plain": [
       "(array([ 18.,  73., 102.,  95., 100.,  55.,  63.,  41.,  33.,  30.,  18.,\n",
       "          7.,   8.,   9.,   4.,   4.,   4.,   3.,   3.,   3.,   3.,   3.,\n",
       "          1.,   1.,   1.,   0.,   0.,   0.,   1.,   0.,   0.,   0.,   0.,\n",
       "          0.,   0.,   0.,   0.,   0.,   1.]),\n",
       " array([ 210000.        ,  371282.05128205,  532564.1025641 ,\n",
       "         693846.15384615,  855128.20512821, 1016410.25641026,\n",
       "        1177692.30769231, 1338974.35897436, 1500256.41025641,\n",
       "        1661538.46153846, 1822820.51282051, 1984102.56410256,\n",
       "        2145384.61538462, 2306666.66666667, 2467948.71794872,\n",
       "        2629230.76923077, 2790512.82051282, 2951794.87179487,\n",
       "        3113076.92307692, 3274358.97435897, 3435641.02564103,\n",
       "        3596923.07692308, 3758205.12820513, 3919487.17948718,\n",
       "        4080769.23076923, 4242051.28205128, 4403333.33333333,\n",
       "        4564615.38461538, 4725897.43589744, 4887179.48717949,\n",
       "        5048461.53846154, 5209743.58974359, 5371025.64102564,\n",
       "        5532307.69230769, 5693589.74358974, 5854871.79487179,\n",
       "        6016153.84615385, 6177435.8974359 , 6338717.94871795,\n",
       "        6500000.        ]),\n",
       " <a list of 39 Patch objects>)"
      ]
     },
     "execution_count": 46,
     "metadata": {},
     "output_type": "execute_result"
    },
    {
     "data": {
      "image/png": "[encoded data removed]",
      "text/plain": [
       "<Figure size 432x288 with 1 Axes>"
      ]
     },
     "metadata": {
      "needs_background": "light"
     },
     "output_type": "display_data"
    }
   ],
   "source": [
    "plt.hist(x=trans['Price'], bins='auto', color='#0504aa',alpha=0.7, rwidth=0.85)"
   ]
  },
  {
   "cell_type": "markdown",
   "metadata": {},
   "source": [
    "We can see the price from the orginal plot is Left sckewed\n",
    "\n",
    "Now we are aiming at the normalized curve by using some transformation techniques\n",
    "\n",
    "We have the some transformation techniques \n",
    "\n",
    "1. Root Transformation\n",
    "2. Sqaure Power Transformation \n",
    "3. Log Transformation\n",
    "\n",
    "We are checking with the price with which we are going to transform the data "
   ]
  },
  {
   "cell_type": "markdown",
   "metadata": {},
   "source": [
    "### Sqaure Power Transformation"
   ]
  },
  {
   "cell_type": "code",
   "execution_count": 47,
   "metadata": {},
   "outputs": [
    {
     "data": {
      "text/plain": [
       "<matplotlib.axes._subplots.AxesSubplot at 0x19712fdf940>"
      ]
     },
     "execution_count": 47,
     "metadata": {},
     "output_type": "execute_result"
    },
    {
     "data": {
      "image/png": "[encoded data removed]",
      "text/plain": [
       "<Figure size 432x288 with 1 Axes>"
      ]
     },
     "metadata": {
      "needs_background": "light"
     },
     "output_type": "display_data"
    }
   ],
   "source": [
    "trans['Price'].apply(np.square).hist()"
   ]
  },
  {
   "cell_type": "markdown",
   "metadata": {},
   "source": [
    "By applying the Square Power Transformation, We can see the data even more right sckewed\n",
    "\n",
    "So we will be ignoring this transformation for tasnforming the data fo building the model "
   ]
  },
  {
   "cell_type": "markdown",
   "metadata": {},
   "source": [
    "### Root Transformation"
   ]
  },
  {
   "cell_type": "code",
   "execution_count": 48,
   "metadata": {},
   "outputs": [
    {
     "data": {
      "text/plain": [
       "<matplotlib.axes._subplots.AxesSubplot at 0x19713036128>"
      ]
     },
     "execution_count": 48,
     "metadata": {},
     "output_type": "execute_result"
    },
    {
     "data": {
      "image/png": "[encoded data removed]",
      "text/plain": [
       "<Figure size 432x288 with 1 Axes>"
      ]
     },
     "metadata": {
      "needs_background": "light"
     },
     "output_type": "display_data"
    }
   ],
   "source": [
    "trans['Price'].apply(np.sqrt).hist()"
   ]
  },
  {
   "cell_type": "markdown",
   "metadata": {},
   "source": [
    "By applying the Root Transformation, we can see that column values are slightly shifted.\n",
    "\n",
    "BUt still values are not in normalized form. So, we are ignoring even this transformation for transforming the column value."
   ]
  },
  {
   "cell_type": "markdown",
   "metadata": {},
   "source": [
    "### Log Transformation"
   ]
  },
  {
   "cell_type": "code",
   "execution_count": 49,
   "metadata": {},
   "outputs": [
    {
     "name": "stderr",
     "output_type": "stream",
     "text": [
      "C:\\Users\\V.PAVAN\\Anaconda3\\lib\\site-packages\\matplotlib\\axes\\_axes.py:6462: UserWarning: The 'normed' kwarg is deprecated, and has been replaced by the 'density' kwarg.\n",
      "  warnings.warn(\"The 'normed' kwarg is deprecated, and has been \"\n"
     ]
    },
    {
     "data": {
      "text/plain": [
       "<matplotlib.axes._subplots.AxesSubplot at 0x197130b47b8>"
      ]
     },
     "execution_count": 49,
     "metadata": {},
     "output_type": "execute_result"
    },
    {
     "data": {
      "image/png": "[encoded data removed]",
      "text/plain": [
       "<Figure size 432x288 with 1 Axes>"
      ]
     },
     "metadata": {
      "needs_background": "light"
     },
     "output_type": "display_data"
    }
   ],
   "source": [
    "log = trans['Price'].apply(np.log)\n",
    "sns.distplot(log)"
   ]
  },
  {
   "cell_type": "markdown",
   "metadata": {},
   "source": [
    "By applying the log tarnsformation on the Price we can see that it is normalised\n",
    "\n",
    "Now we are going to use this transformation and build the model for predicting the price  "
   ]
  },
  {
   "cell_type": "markdown",
   "metadata": {},
   "source": [
    "No we are applying the log Transformation to the data and the values are being assigned to the data frame "
   ]
  },
  {
   "cell_type": "code",
   "execution_count": 50,
   "metadata": {},
   "outputs": [
    {
     "name": "stderr",
     "output_type": "stream",
     "text": [
      "C:\\Users\\V.PAVAN\\Anaconda3\\lib\\site-packages\\ipykernel_launcher.py:2: SettingWithCopyWarning: \n",
      "A value is trying to be set on a copy of a slice from a DataFrame.\n",
      "Try using .loc[row_indexer,col_indexer] = value instead\n",
      "\n",
      "See the caveats in the documentation: http://pandas.pydata.org/pandas-docs/stable/indexing.html#indexing-view-versus-copy\n",
      "  \n"
     ]
    },
    {
     "data": {
      "text/html": [
       "<div>\n",
       "<style scoped>\n",
       "    .dataframe tbody tr th:only-of-type {\n",
       "        vertical-align: middle;\n",
       "    }\n",
       "\n",
       "    .dataframe tbody tr th {\n",
       "        vertical-align: top;\n",
       "    }\n",
       "\n",
       "    .dataframe thead th {\n",
       "        text-align: right;\n",
       "    }\n",
       "</style>\n",
       "<table border=\"1\" class=\"dataframe\">\n",
       "  <thead>\n",
       "    <tr style=\"text-align: right;\">\n",
       "      <th></th>\n",
       "      <th>Age</th>\n",
       "      <th>travel_min_to_CBD</th>\n",
       "      <th>crime_C_average</th>\n",
       "      <th>Rooms</th>\n",
       "      <th>Price</th>\n",
       "      <th>Max_age</th>\n",
       "      <th>Max_travel</th>\n",
       "      <th>Max_crime</th>\n",
       "      <th>Max_room</th>\n",
       "      <th>Z_age</th>\n",
       "      <th>Z_travel</th>\n",
       "      <th>Z_crime</th>\n",
       "      <th>Z_room</th>\n",
       "      <th>lmr</th>\n",
       "    </tr>\n",
       "  </thead>\n",
       "  <tbody>\n",
       "    <tr>\n",
       "      <th>0</th>\n",
       "      <td>5.0</td>\n",
       "      <td>34</td>\n",
       "      <td>375.333</td>\n",
       "      <td>3</td>\n",
       "      <td>860000.0</td>\n",
       "      <td>0.020134</td>\n",
       "      <td>0.500000</td>\n",
       "      <td>0.183377</td>\n",
       "      <td>0.333333</td>\n",
       "      <td>-1.353185</td>\n",
       "      <td>0.814656</td>\n",
       "      <td>-0.169216</td>\n",
       "      <td>0.077298</td>\n",
       "      <td>13.6647</td>\n",
       "    </tr>\n",
       "    <tr>\n",
       "      <th>1</th>\n",
       "      <td>83.0</td>\n",
       "      <td>33</td>\n",
       "      <td>19</td>\n",
       "      <td>4</td>\n",
       "      <td>1170000.0</td>\n",
       "      <td>0.543624</td>\n",
       "      <td>0.485294</td>\n",
       "      <td>0.008818</td>\n",
       "      <td>0.500000</td>\n",
       "      <td>0.733199</td>\n",
       "      <td>0.721816</td>\n",
       "      <td>-1.085596</td>\n",
       "      <td>1.156314</td>\n",
       "      <td>13.9725</td>\n",
       "    </tr>\n",
       "    <tr>\n",
       "      <th>2</th>\n",
       "      <td>9.0</td>\n",
       "      <td>19</td>\n",
       "      <td>620.333</td>\n",
       "      <td>2</td>\n",
       "      <td>480000.0</td>\n",
       "      <td>0.046980</td>\n",
       "      <td>0.279412</td>\n",
       "      <td>0.303396</td>\n",
       "      <td>0.166667</td>\n",
       "      <td>-1.246191</td>\n",
       "      <td>-0.577942</td>\n",
       "      <td>0.460850</td>\n",
       "      <td>-1.001718</td>\n",
       "      <td>13.0815</td>\n",
       "    </tr>\n",
       "    <tr>\n",
       "      <th>3</th>\n",
       "      <td>114.0</td>\n",
       "      <td>24</td>\n",
       "      <td>75.6667</td>\n",
       "      <td>3</td>\n",
       "      <td>1775000.0</td>\n",
       "      <td>0.751678</td>\n",
       "      <td>0.352941</td>\n",
       "      <td>0.036577</td>\n",
       "      <td>0.333333</td>\n",
       "      <td>1.562403</td>\n",
       "      <td>-0.113742</td>\n",
       "      <td>-0.939867</td>\n",
       "      <td>0.077298</td>\n",
       "      <td>14.3893</td>\n",
       "    </tr>\n",
       "    <tr>\n",
       "      <th>4</th>\n",
       "      <td>104.0</td>\n",
       "      <td>49</td>\n",
       "      <td>553.667</td>\n",
       "      <td>3</td>\n",
       "      <td>663500.0</td>\n",
       "      <td>0.684564</td>\n",
       "      <td>0.720588</td>\n",
       "      <td>0.270738</td>\n",
       "      <td>0.333333</td>\n",
       "      <td>1.294917</td>\n",
       "      <td>2.207254</td>\n",
       "      <td>0.289403</td>\n",
       "      <td>0.077298</td>\n",
       "      <td>13.4053</td>\n",
       "    </tr>\n",
       "  </tbody>\n",
       "</table>\n",
       "</div>"
      ],
      "text/plain": [
       "     Age  travel_min_to_CBD crime_C_average  Rooms      Price   Max_age  \\\n",
       "0    5.0                 34         375.333      3   860000.0  0.020134   \n",
       "1   83.0                 33              19      4  1170000.0  0.543624   \n",
       "2    9.0                 19         620.333      2   480000.0  0.046980   \n",
       "3  114.0                 24         75.6667      3  1775000.0  0.751678   \n",
       "4  104.0                 49         553.667      3   663500.0  0.684564   \n",
       "\n",
       "   Max_travel  Max_crime  Max_room     Z_age  Z_travel   Z_crime    Z_room  \\\n",
       "0    0.500000   0.183377  0.333333 -1.353185  0.814656 -0.169216  0.077298   \n",
       "1    0.485294   0.008818  0.500000  0.733199  0.721816 -1.085596  1.156314   \n",
       "2    0.279412   0.303396  0.166667 -1.246191 -0.577942  0.460850 -1.001718   \n",
       "3    0.352941   0.036577  0.333333  1.562403 -0.113742 -0.939867  0.077298   \n",
       "4    0.720588   0.270738  0.333333  1.294917  2.207254  0.289403  0.077298   \n",
       "\n",
       "       lmr  \n",
       "0  13.6647  \n",
       "1  13.9725  \n",
       "2  13.0815  \n",
       "3  14.3893  \n",
       "4  13.4053  "
      ]
     },
     "execution_count": 50,
     "metadata": {},
     "output_type": "execute_result"
    }
   ],
   "source": [
    "import math\n",
    "trans['lmr'] = None\n",
    "i = 0\n",
    "for row in trans.iterrows():\n",
    "    trans['lmr'].at[i] = math.log(trans[\"Price\"][i])\n",
    "    i += 1\n",
    "\n",
    "trans.head()"
   ]
  },
  {
   "cell_type": "markdown",
   "metadata": {},
   "source": [
    "#### Building the linear regression model for predicting the price"
   ]
  },
  {
   "cell_type": "code",
   "execution_count": 51,
   "metadata": {},
   "outputs": [
    {
     "data": {
      "text/plain": [
       "0.41407661549840724"
      ]
     },
     "execution_count": 51,
     "metadata": {},
     "output_type": "execute_result"
    }
   ],
   "source": [
    "# we are training the model even before scaling the data\n",
    "X0_train, X0_test, y0_train, y0_test = train_test_split(trans[['Age', 'travel_min_to_CBD', 'crime_C_average','Rooms']],trans['Price'],random_state = 89)\n",
    "lm = LinearRegression()\n",
    "lm.fit(X0_train,y0_train)\n",
    "lm.score(X0_test,y0_test)"
   ]
  },
  {
   "cell_type": "code",
   "execution_count": 52,
   "metadata": {},
   "outputs": [
    {
     "data": {
      "text/plain": [
       "0.48301313531654544"
      ]
     },
     "execution_count": 52,
     "metadata": {},
     "output_type": "execute_result"
    }
   ],
   "source": [
    "# we are building the linear model on the scaled and transformed data \n",
    "X1_train, X1_test, y1_train, y1_test = train_test_split(trans[['Max_age', 'Max_travel', 'Max_crime','Max_room']],trans['lmr'],random_state = 89)\n",
    "lm1 = LinearRegression()\n",
    "lm1.fit(X1_train,y1_train)\n",
    "lm1.score(X1_test,y1_test)"
   ]
  },
  {
   "cell_type": "markdown",
   "metadata": {},
   "source": [
    "We have caluclating the R-score for the model build and we can see that Transformed data r score is better than the before model "
   ]
  },
  {
   "cell_type": "markdown",
   "metadata": {},
   "source": [
    "### Conclusion:"
   ]
  },
  {
   "cell_type": "markdown",
   "metadata": {},
   "source": [
    "Min-Max Scaler:\n",
    "\n",
    "It essentially shrinks the range such that the range is now between 0 and 1 (or -1 to 1 if there are negative values).\n",
    "\n",
    "This scaler works better for cases in which the standard scaler might not work so well. If the distribution is not Gaussian or the standard deviation is very small, the min-max scaler works better.\n",
    "\n",
    "Log Transform :\n",
    "\n",
    "However, it is sensitive to outliers, so if there are outliers in the data.\n",
    "\n",
    "Log transforms are popular with time series data as they are effective at removing exponential variance.\n",
    "\n",
    "It is important to note that this operation assumes values are positive and non-zero. It is common to transform observations by adding a fixed constant to ensure all input values meet this requirement."
   ]
  },
  {
   "cell_type": "markdown",
   "metadata": {},
   "source": [
    "# References:"
   ]
  },
  {
   "cell_type": "markdown",
   "metadata": {},
   "source": [
    
   ]
  }
 ],
 "metadata": {
  "kernelspec": {
   "display_name": "Python 3",
   "language": "python",
   "name": "python3"
  },
  "language_info": {
   "codemirror_mode": {
    "name": "ipython",
    "version": 3
   },
   "file_extension": ".py",
   "mimetype": "text/x-python",
   "name": "python",
   "nbconvert_exporter": "python",
   "pygments_lexer": "ipython3",
   "version": "3.6.4"
  }
 },
 "nbformat": 4,
 "nbformat_minor": 2
}
